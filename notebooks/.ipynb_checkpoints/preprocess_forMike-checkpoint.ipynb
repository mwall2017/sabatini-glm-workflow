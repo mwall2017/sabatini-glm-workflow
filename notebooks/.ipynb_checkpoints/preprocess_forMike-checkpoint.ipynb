{
 "cells": [
  {
   "cell_type": "code",
   "execution_count": 7,
   "metadata": {},
   "outputs": [
    {
     "name": "stdout",
     "output_type": "stream",
     "text": [
      "The autoreload extension is already loaded. To reload it, use:\n",
      "  %reload_ext autoreload\n"
     ]
    }
   ],
   "source": [
    "import numpy as np\n",
    "import pandas as pd\n",
    "import sys\n",
    "import os\n",
    "from pathlib import Path\n",
    "if os.path.basename(os.getcwd()) == 'notebooks':\n",
    "    os.chdir('..')\n",
    "import glob\n",
    "import tqdm\n",
    "from sglm import utils, glm_fit\n",
    "from sklearn.model_selection import GridSearchCV\n",
    "from sklearn.linear_model import ElasticNet, Ridge, LinearRegression\n",
    "from sklearn.pipeline import Pipeline\n",
    "import matplotlib.pyplot as plt\n",
    "\n",
    "%load_ext autoreload\n",
    "%autoreload 2"
   ]
  },
  {
   "cell_type": "code",
   "execution_count": 8,
   "metadata": {},
   "outputs": [],
   "source": [
    "# set path location to folder containing GLM_SIGNALS... and GLM_TABLE... .csv files\n",
    "src = Path(r'E:\\Dropbox (BOSTON UNIVERSITY)\\2ABT\\processed_photometry\\9010\\GLM_data')\n",
    "\n",
    "def create_basis(file_dir):\n",
    "    files = [Path(_).parts[-1] for _ in glob.glob(str(file_dir)) if 'SIGNALS' in _]\n",
    "\n",
    "    basis = pd.DataFrame(files, columns=['signal_file'])\n",
    "    basis['table_file'] = basis['signal_file'].str.replace('GLM_SIGNALS_', 'GLM_TABLE_')\n",
    "    basis['figname'] = 'fig'\n",
    "    basis['groupid'] = 'g'\n",
    "    basis['mouseid'] = basis['signal_file'].str.replace('GLM_SIGNALS_', '').str.slice(0,8)\n",
    "    basis['rename_dict'] = \"{'Ch1': 'GCAMP'}\"\n",
    "    basis['signal_file_out'] = basis['signal_file'].str.replace('GLM_SIGNALS_', 'GLM_SIGNALS_INTERIM_')\n",
    "    basis['table_file_out'] = basis['table_file'].str.replace('GLM_TABLE_', 'GLM_TABLE_INTERIM_')\n",
    "    return basis\n",
    "\n",
    "basis_df = create_basis(src / '*')\n",
    "basis_df.to_csv(src / '_basis.csv', index=False)"
   ]
  },
  {
   "cell_type": "code",
   "execution_count": 9,
   "metadata": {},
   "outputs": [],
   "source": [
    "num_sft = (-20, 20)\n",
    "\n",
    "default_source_folder = Path(r'E:\\Dropbox (BOSTON UNIVERSITY)\\2ABT\\processed_photometry\\9010\\GLM_data')\n",
    "default_output_folder = Path(r'E:\\Dropbox (BOSTON UNIVERSITY)\\2ABT\\processed_photometry\\9010\\GLM_data\\interim')\n",
    "\n",
    "output_json_name = Path('preproc_params.json')\n",
    "basis_name = Path('_basis.csv')\n",
    "\n",
    "y_col_lst_all = ['GCAMP', 'Ch1']"
   ]
  },
  {
   "cell_type": "code",
   "execution_count": 10,
   "metadata": {},
   "outputs": [],
   "source": [
    "basis = pd.read_csv(str((default_source_folder / basis_name).resolve()))\n",
    "basis.to_csv(str((default_output_folder / basis_name).resolve()))\n",
    "basis = basis.sort_values('signal_file').reset_index(drop=True)\n",
    "source_folder = default_source_folder"
   ]
  },
  {
   "cell_type": "code",
   "execution_count": 15,
   "metadata": {},
   "outputs": [
    {
     "data": {
      "application/vnd.jupyter.widget-view+json": {
       "model_id": "1cddf4aaba7743968342db712c296cae",
       "version_major": 2,
       "version_minor": 0
      },
      "text/plain": [
       "  0%|          | 0/49 [00:00<?, ?it/s]"
      ]
     },
     "metadata": {},
     "output_type": "display_data"
    },
    {
     "name": "stdout",
     "output_type": "stream",
     "text": [
      "E:\\Dropbox (BOSTON UNIVERSITY)\\2ABT\\processed_photometry\\9010\\GLM_data\\GLM_SIGNALS_sstflp15_05302019.csv\n",
      "# of iterations 0 — Final max amount of duplicated Center Out Indices: 1\n"
     ]
    },
    {
     "name": "stderr",
     "output_type": "stream",
     "text": [
      "C:\\Users\\mwall\\Documents\\GitHub\\sabatini-glm-workflow\\sglm\\gen_signal_df.py:105: FutureWarning: Downcasting behavior in `replace` is deprecated and will be removed in a future version. To retain the old behavior, explicitly call `result.infer_objects(copy=False)`. To opt-in to the future behavior, set `pd.set_option('future.no_silent_downcasting', True)`\n",
      "  check['val_a'] = df_t['label'].str.slice(0, 1).replace('a', 0).replace('A', 1) + df_t['label'].str.slice(1, 2).replace('b', 0).replace('B', 2).replace('a', 4).replace('A', 6)\n",
      "C:\\Users\\mwall\\AppData\\Local\\Temp\\ipykernel_13676\\2922615450.py:100: FutureWarning: The provided callable <function sum at 0x0000020429FDC280> is currently using SeriesGroupBy.sum. In a future version of pandas, the provided callable will be used directly. To keep current behavior pass the string \"sum\" instead.\n",
      "  signal_df['r_trial'] = (signal_df.groupby('TrialNumber')['photometrySideInIndexr'].transform(np.sum) > 0) * 1.0\n",
      "C:\\Users\\mwall\\AppData\\Local\\Temp\\ipykernel_13676\\2922615450.py:101: FutureWarning: The provided callable <function sum at 0x0000020429FDC280> is currently using SeriesGroupBy.sum. In a future version of pandas, the provided callable will be used directly. To keep current behavior pass the string \"sum\" instead.\n",
      "  signal_df['nr_trial'] = (signal_df.groupby('TrialNumber')['photometrySideInIndexnr'].transform(np.sum) > 0) * 1.0\n"
     ]
    },
    {
     "name": "stdout",
     "output_type": "stream",
     "text": [
      "E:\\Dropbox (BOSTON UNIVERSITY)\\2ABT\\processed_photometry\\9010\\GLM_data\\GLM_SIGNALS_sstflp15_06072019.csv\n",
      "# of iterations 0 — Final max amount of duplicated Center Out Indices: 1\n"
     ]
    },
    {
     "name": "stderr",
     "output_type": "stream",
     "text": [
      "C:\\Users\\mwall\\Documents\\GitHub\\sabatini-glm-workflow\\sglm\\gen_signal_df.py:105: FutureWarning: Downcasting behavior in `replace` is deprecated and will be removed in a future version. To retain the old behavior, explicitly call `result.infer_objects(copy=False)`. To opt-in to the future behavior, set `pd.set_option('future.no_silent_downcasting', True)`\n",
      "  check['val_a'] = df_t['label'].str.slice(0, 1).replace('a', 0).replace('A', 1) + df_t['label'].str.slice(1, 2).replace('b', 0).replace('B', 2).replace('a', 4).replace('A', 6)\n",
      "C:\\Users\\mwall\\AppData\\Local\\Temp\\ipykernel_13676\\2922615450.py:100: FutureWarning: The provided callable <function sum at 0x0000020429FDC280> is currently using SeriesGroupBy.sum. In a future version of pandas, the provided callable will be used directly. To keep current behavior pass the string \"sum\" instead.\n",
      "  signal_df['r_trial'] = (signal_df.groupby('TrialNumber')['photometrySideInIndexr'].transform(np.sum) > 0) * 1.0\n",
      "C:\\Users\\mwall\\AppData\\Local\\Temp\\ipykernel_13676\\2922615450.py:101: FutureWarning: The provided callable <function sum at 0x0000020429FDC280> is currently using SeriesGroupBy.sum. In a future version of pandas, the provided callable will be used directly. To keep current behavior pass the string \"sum\" instead.\n",
      "  signal_df['nr_trial'] = (signal_df.groupby('TrialNumber')['photometrySideInIndexnr'].transform(np.sum) > 0) * 1.0\n"
     ]
    },
    {
     "name": "stdout",
     "output_type": "stream",
     "text": [
      "E:\\Dropbox (BOSTON UNIVERSITY)\\2ABT\\processed_photometry\\9010\\GLM_data\\GLM_SIGNALS_sstflp15_06112019.csv\n",
      "# of iterations 0 — Final max amount of duplicated Center Out Indices: 1\n"
     ]
    },
    {
     "name": "stderr",
     "output_type": "stream",
     "text": [
      "C:\\Users\\mwall\\Documents\\GitHub\\sabatini-glm-workflow\\sglm\\gen_signal_df.py:105: FutureWarning: Downcasting behavior in `replace` is deprecated and will be removed in a future version. To retain the old behavior, explicitly call `result.infer_objects(copy=False)`. To opt-in to the future behavior, set `pd.set_option('future.no_silent_downcasting', True)`\n",
      "  check['val_a'] = df_t['label'].str.slice(0, 1).replace('a', 0).replace('A', 1) + df_t['label'].str.slice(1, 2).replace('b', 0).replace('B', 2).replace('a', 4).replace('A', 6)\n",
      "C:\\Users\\mwall\\AppData\\Local\\Temp\\ipykernel_13676\\2922615450.py:100: FutureWarning: The provided callable <function sum at 0x0000020429FDC280> is currently using SeriesGroupBy.sum. In a future version of pandas, the provided callable will be used directly. To keep current behavior pass the string \"sum\" instead.\n",
      "  signal_df['r_trial'] = (signal_df.groupby('TrialNumber')['photometrySideInIndexr'].transform(np.sum) > 0) * 1.0\n",
      "C:\\Users\\mwall\\AppData\\Local\\Temp\\ipykernel_13676\\2922615450.py:101: FutureWarning: The provided callable <function sum at 0x0000020429FDC280> is currently using SeriesGroupBy.sum. In a future version of pandas, the provided callable will be used directly. To keep current behavior pass the string \"sum\" instead.\n",
      "  signal_df['nr_trial'] = (signal_df.groupby('TrialNumber')['photometrySideInIndexnr'].transform(np.sum) > 0) * 1.0\n"
     ]
    },
    {
     "name": "stdout",
     "output_type": "stream",
     "text": [
      "E:\\Dropbox (BOSTON UNIVERSITY)\\2ABT\\processed_photometry\\9010\\GLM_data\\GLM_SIGNALS_sstflp15_06132019.csv\n",
      "# of iterations 0 — Final max amount of duplicated Center Out Indices: 1\n"
     ]
    },
    {
     "name": "stderr",
     "output_type": "stream",
     "text": [
      "C:\\Users\\mwall\\Documents\\GitHub\\sabatini-glm-workflow\\sglm\\gen_signal_df.py:105: FutureWarning: Downcasting behavior in `replace` is deprecated and will be removed in a future version. To retain the old behavior, explicitly call `result.infer_objects(copy=False)`. To opt-in to the future behavior, set `pd.set_option('future.no_silent_downcasting', True)`\n",
      "  check['val_a'] = df_t['label'].str.slice(0, 1).replace('a', 0).replace('A', 1) + df_t['label'].str.slice(1, 2).replace('b', 0).replace('B', 2).replace('a', 4).replace('A', 6)\n",
      "C:\\Users\\mwall\\AppData\\Local\\Temp\\ipykernel_13676\\2922615450.py:100: FutureWarning: The provided callable <function sum at 0x0000020429FDC280> is currently using SeriesGroupBy.sum. In a future version of pandas, the provided callable will be used directly. To keep current behavior pass the string \"sum\" instead.\n",
      "  signal_df['r_trial'] = (signal_df.groupby('TrialNumber')['photometrySideInIndexr'].transform(np.sum) > 0) * 1.0\n",
      "C:\\Users\\mwall\\AppData\\Local\\Temp\\ipykernel_13676\\2922615450.py:101: FutureWarning: The provided callable <function sum at 0x0000020429FDC280> is currently using SeriesGroupBy.sum. In a future version of pandas, the provided callable will be used directly. To keep current behavior pass the string \"sum\" instead.\n",
      "  signal_df['nr_trial'] = (signal_df.groupby('TrialNumber')['photometrySideInIndexnr'].transform(np.sum) > 0) * 1.0\n"
     ]
    },
    {
     "name": "stdout",
     "output_type": "stream",
     "text": [
      "E:\\Dropbox (BOSTON UNIVERSITY)\\2ABT\\processed_photometry\\9010\\GLM_data\\GLM_SIGNALS_sstflp15_06172019.csv\n",
      "# of iterations 0 — Final max amount of duplicated Center Out Indices: 1\n"
     ]
    },
    {
     "name": "stderr",
     "output_type": "stream",
     "text": [
      "C:\\Users\\mwall\\Documents\\GitHub\\sabatini-glm-workflow\\sglm\\gen_signal_df.py:105: FutureWarning: Downcasting behavior in `replace` is deprecated and will be removed in a future version. To retain the old behavior, explicitly call `result.infer_objects(copy=False)`. To opt-in to the future behavior, set `pd.set_option('future.no_silent_downcasting', True)`\n",
      "  check['val_a'] = df_t['label'].str.slice(0, 1).replace('a', 0).replace('A', 1) + df_t['label'].str.slice(1, 2).replace('b', 0).replace('B', 2).replace('a', 4).replace('A', 6)\n",
      "C:\\Users\\mwall\\AppData\\Local\\Temp\\ipykernel_13676\\2922615450.py:100: FutureWarning: The provided callable <function sum at 0x0000020429FDC280> is currently using SeriesGroupBy.sum. In a future version of pandas, the provided callable will be used directly. To keep current behavior pass the string \"sum\" instead.\n",
      "  signal_df['r_trial'] = (signal_df.groupby('TrialNumber')['photometrySideInIndexr'].transform(np.sum) > 0) * 1.0\n",
      "C:\\Users\\mwall\\AppData\\Local\\Temp\\ipykernel_13676\\2922615450.py:101: FutureWarning: The provided callable <function sum at 0x0000020429FDC280> is currently using SeriesGroupBy.sum. In a future version of pandas, the provided callable will be used directly. To keep current behavior pass the string \"sum\" instead.\n",
      "  signal_df['nr_trial'] = (signal_df.groupby('TrialNumber')['photometrySideInIndexnr'].transform(np.sum) > 0) * 1.0\n"
     ]
    },
    {
     "name": "stdout",
     "output_type": "stream",
     "text": [
      "E:\\Dropbox (BOSTON UNIVERSITY)\\2ABT\\processed_photometry\\9010\\GLM_data\\GLM_SIGNALS_sstflp15_06202019.csv\n",
      "# of iterations 0 — Final max amount of duplicated Center Out Indices: 1\n"
     ]
    },
    {
     "name": "stderr",
     "output_type": "stream",
     "text": [
      "C:\\Users\\mwall\\Documents\\GitHub\\sabatini-glm-workflow\\sglm\\gen_signal_df.py:105: FutureWarning: Downcasting behavior in `replace` is deprecated and will be removed in a future version. To retain the old behavior, explicitly call `result.infer_objects(copy=False)`. To opt-in to the future behavior, set `pd.set_option('future.no_silent_downcasting', True)`\n",
      "  check['val_a'] = df_t['label'].str.slice(0, 1).replace('a', 0).replace('A', 1) + df_t['label'].str.slice(1, 2).replace('b', 0).replace('B', 2).replace('a', 4).replace('A', 6)\n",
      "C:\\Users\\mwall\\AppData\\Local\\Temp\\ipykernel_13676\\2922615450.py:100: FutureWarning: The provided callable <function sum at 0x0000020429FDC280> is currently using SeriesGroupBy.sum. In a future version of pandas, the provided callable will be used directly. To keep current behavior pass the string \"sum\" instead.\n",
      "  signal_df['r_trial'] = (signal_df.groupby('TrialNumber')['photometrySideInIndexr'].transform(np.sum) > 0) * 1.0\n",
      "C:\\Users\\mwall\\AppData\\Local\\Temp\\ipykernel_13676\\2922615450.py:101: FutureWarning: The provided callable <function sum at 0x0000020429FDC280> is currently using SeriesGroupBy.sum. In a future version of pandas, the provided callable will be used directly. To keep current behavior pass the string \"sum\" instead.\n",
      "  signal_df['nr_trial'] = (signal_df.groupby('TrialNumber')['photometrySideInIndexnr'].transform(np.sum) > 0) * 1.0\n"
     ]
    },
    {
     "name": "stdout",
     "output_type": "stream",
     "text": [
      "E:\\Dropbox (BOSTON UNIVERSITY)\\2ABT\\processed_photometry\\9010\\GLM_data\\GLM_SIGNALS_sstflp15_06242019.csv\n",
      "# of iterations 0 — Final max amount of duplicated Center Out Indices: 1\n"
     ]
    },
    {
     "name": "stderr",
     "output_type": "stream",
     "text": [
      "C:\\Users\\mwall\\Documents\\GitHub\\sabatini-glm-workflow\\sglm\\gen_signal_df.py:105: FutureWarning: Downcasting behavior in `replace` is deprecated and will be removed in a future version. To retain the old behavior, explicitly call `result.infer_objects(copy=False)`. To opt-in to the future behavior, set `pd.set_option('future.no_silent_downcasting', True)`\n",
      "  check['val_a'] = df_t['label'].str.slice(0, 1).replace('a', 0).replace('A', 1) + df_t['label'].str.slice(1, 2).replace('b', 0).replace('B', 2).replace('a', 4).replace('A', 6)\n",
      "C:\\Users\\mwall\\AppData\\Local\\Temp\\ipykernel_13676\\2922615450.py:100: FutureWarning: The provided callable <function sum at 0x0000020429FDC280> is currently using SeriesGroupBy.sum. In a future version of pandas, the provided callable will be used directly. To keep current behavior pass the string \"sum\" instead.\n",
      "  signal_df['r_trial'] = (signal_df.groupby('TrialNumber')['photometrySideInIndexr'].transform(np.sum) > 0) * 1.0\n",
      "C:\\Users\\mwall\\AppData\\Local\\Temp\\ipykernel_13676\\2922615450.py:101: FutureWarning: The provided callable <function sum at 0x0000020429FDC280> is currently using SeriesGroupBy.sum. In a future version of pandas, the provided callable will be used directly. To keep current behavior pass the string \"sum\" instead.\n",
      "  signal_df['nr_trial'] = (signal_df.groupby('TrialNumber')['photometrySideInIndexnr'].transform(np.sum) > 0) * 1.0\n"
     ]
    },
    {
     "name": "stdout",
     "output_type": "stream",
     "text": [
      "E:\\Dropbox (BOSTON UNIVERSITY)\\2ABT\\processed_photometry\\9010\\GLM_data\\GLM_SIGNALS_sstflp16_07162019.csv\n"
     ]
    },
    {
     "name": "stderr",
     "output_type": "stream",
     "text": [
      "C:\\Users\\mwall\\Documents\\GitHub\\sabatini-glm-workflow\\sglm\\gen_signal_df.py:105: FutureWarning: Downcasting behavior in `replace` is deprecated and will be removed in a future version. To retain the old behavior, explicitly call `result.infer_objects(copy=False)`. To opt-in to the future behavior, set `pd.set_option('future.no_silent_downcasting', True)`\n",
      "  check['val_a'] = df_t['label'].str.slice(0, 1).replace('a', 0).replace('A', 1) + df_t['label'].str.slice(1, 2).replace('b', 0).replace('B', 2).replace('a', 4).replace('A', 6)\n"
     ]
    },
    {
     "name": "stdout",
     "output_type": "stream",
     "text": [
      "# of iterations 0 — Final max amount of duplicated Center Out Indices: 1\n"
     ]
    },
    {
     "name": "stderr",
     "output_type": "stream",
     "text": [
      "C:\\Users\\mwall\\AppData\\Local\\Temp\\ipykernel_13676\\2922615450.py:100: FutureWarning: The provided callable <function sum at 0x0000020429FDC280> is currently using SeriesGroupBy.sum. In a future version of pandas, the provided callable will be used directly. To keep current behavior pass the string \"sum\" instead.\n",
      "  signal_df['r_trial'] = (signal_df.groupby('TrialNumber')['photometrySideInIndexr'].transform(np.sum) > 0) * 1.0\n",
      "C:\\Users\\mwall\\AppData\\Local\\Temp\\ipykernel_13676\\2922615450.py:101: FutureWarning: The provided callable <function sum at 0x0000020429FDC280> is currently using SeriesGroupBy.sum. In a future version of pandas, the provided callable will be used directly. To keep current behavior pass the string \"sum\" instead.\n",
      "  signal_df['nr_trial'] = (signal_df.groupby('TrialNumber')['photometrySideInIndexnr'].transform(np.sum) > 0) * 1.0\n"
     ]
    },
    {
     "name": "stdout",
     "output_type": "stream",
     "text": [
      "E:\\Dropbox (BOSTON UNIVERSITY)\\2ABT\\processed_photometry\\9010\\GLM_data\\GLM_SIGNALS_sstflp16_07192019.csv\n",
      "# of iterations 0 — Final max amount of duplicated Center Out Indices: 1\n"
     ]
    },
    {
     "name": "stderr",
     "output_type": "stream",
     "text": [
      "C:\\Users\\mwall\\Documents\\GitHub\\sabatini-glm-workflow\\sglm\\gen_signal_df.py:105: FutureWarning: Downcasting behavior in `replace` is deprecated and will be removed in a future version. To retain the old behavior, explicitly call `result.infer_objects(copy=False)`. To opt-in to the future behavior, set `pd.set_option('future.no_silent_downcasting', True)`\n",
      "  check['val_a'] = df_t['label'].str.slice(0, 1).replace('a', 0).replace('A', 1) + df_t['label'].str.slice(1, 2).replace('b', 0).replace('B', 2).replace('a', 4).replace('A', 6)\n",
      "C:\\Users\\mwall\\AppData\\Local\\Temp\\ipykernel_13676\\2922615450.py:100: FutureWarning: The provided callable <function sum at 0x0000020429FDC280> is currently using SeriesGroupBy.sum. In a future version of pandas, the provided callable will be used directly. To keep current behavior pass the string \"sum\" instead.\n",
      "  signal_df['r_trial'] = (signal_df.groupby('TrialNumber')['photometrySideInIndexr'].transform(np.sum) > 0) * 1.0\n",
      "C:\\Users\\mwall\\AppData\\Local\\Temp\\ipykernel_13676\\2922615450.py:101: FutureWarning: The provided callable <function sum at 0x0000020429FDC280> is currently using SeriesGroupBy.sum. In a future version of pandas, the provided callable will be used directly. To keep current behavior pass the string \"sum\" instead.\n",
      "  signal_df['nr_trial'] = (signal_df.groupby('TrialNumber')['photometrySideInIndexnr'].transform(np.sum) > 0) * 1.0\n"
     ]
    },
    {
     "name": "stdout",
     "output_type": "stream",
     "text": [
      "E:\\Dropbox (BOSTON UNIVERSITY)\\2ABT\\processed_photometry\\9010\\GLM_data\\GLM_SIGNALS_sstflp16_07232019.csv\n",
      "# of iterations 0 — Final max amount of duplicated Center Out Indices: 1\n"
     ]
    },
    {
     "name": "stderr",
     "output_type": "stream",
     "text": [
      "C:\\Users\\mwall\\Documents\\GitHub\\sabatini-glm-workflow\\sglm\\gen_signal_df.py:105: FutureWarning: Downcasting behavior in `replace` is deprecated and will be removed in a future version. To retain the old behavior, explicitly call `result.infer_objects(copy=False)`. To opt-in to the future behavior, set `pd.set_option('future.no_silent_downcasting', True)`\n",
      "  check['val_a'] = df_t['label'].str.slice(0, 1).replace('a', 0).replace('A', 1) + df_t['label'].str.slice(1, 2).replace('b', 0).replace('B', 2).replace('a', 4).replace('A', 6)\n",
      "C:\\Users\\mwall\\AppData\\Local\\Temp\\ipykernel_13676\\2922615450.py:100: FutureWarning: The provided callable <function sum at 0x0000020429FDC280> is currently using SeriesGroupBy.sum. In a future version of pandas, the provided callable will be used directly. To keep current behavior pass the string \"sum\" instead.\n",
      "  signal_df['r_trial'] = (signal_df.groupby('TrialNumber')['photometrySideInIndexr'].transform(np.sum) > 0) * 1.0\n",
      "C:\\Users\\mwall\\AppData\\Local\\Temp\\ipykernel_13676\\2922615450.py:101: FutureWarning: The provided callable <function sum at 0x0000020429FDC280> is currently using SeriesGroupBy.sum. In a future version of pandas, the provided callable will be used directly. To keep current behavior pass the string \"sum\" instead.\n",
      "  signal_df['nr_trial'] = (signal_df.groupby('TrialNumber')['photometrySideInIndexnr'].transform(np.sum) > 0) * 1.0\n"
     ]
    },
    {
     "name": "stdout",
     "output_type": "stream",
     "text": [
      "E:\\Dropbox (BOSTON UNIVERSITY)\\2ABT\\processed_photometry\\9010\\GLM_data\\GLM_SIGNALS_sstflp16_07292019.csv\n",
      "# of iterations 0 — Final max amount of duplicated Center Out Indices: 1\n"
     ]
    },
    {
     "name": "stderr",
     "output_type": "stream",
     "text": [
      "C:\\Users\\mwall\\Documents\\GitHub\\sabatini-glm-workflow\\sglm\\gen_signal_df.py:105: FutureWarning: Downcasting behavior in `replace` is deprecated and will be removed in a future version. To retain the old behavior, explicitly call `result.infer_objects(copy=False)`. To opt-in to the future behavior, set `pd.set_option('future.no_silent_downcasting', True)`\n",
      "  check['val_a'] = df_t['label'].str.slice(0, 1).replace('a', 0).replace('A', 1) + df_t['label'].str.slice(1, 2).replace('b', 0).replace('B', 2).replace('a', 4).replace('A', 6)\n",
      "C:\\Users\\mwall\\AppData\\Local\\Temp\\ipykernel_13676\\2922615450.py:100: FutureWarning: The provided callable <function sum at 0x0000020429FDC280> is currently using SeriesGroupBy.sum. In a future version of pandas, the provided callable will be used directly. To keep current behavior pass the string \"sum\" instead.\n",
      "  signal_df['r_trial'] = (signal_df.groupby('TrialNumber')['photometrySideInIndexr'].transform(np.sum) > 0) * 1.0\n",
      "C:\\Users\\mwall\\AppData\\Local\\Temp\\ipykernel_13676\\2922615450.py:101: FutureWarning: The provided callable <function sum at 0x0000020429FDC280> is currently using SeriesGroupBy.sum. In a future version of pandas, the provided callable will be used directly. To keep current behavior pass the string \"sum\" instead.\n",
      "  signal_df['nr_trial'] = (signal_df.groupby('TrialNumber')['photometrySideInIndexnr'].transform(np.sum) > 0) * 1.0\n"
     ]
    },
    {
     "name": "stdout",
     "output_type": "stream",
     "text": [
      "E:\\Dropbox (BOSTON UNIVERSITY)\\2ABT\\processed_photometry\\9010\\GLM_data\\GLM_SIGNALS_sstflp16_08012019.csv\n",
      "# of iterations 0 — Final max amount of duplicated Center Out Indices: 1\n"
     ]
    },
    {
     "name": "stderr",
     "output_type": "stream",
     "text": [
      "C:\\Users\\mwall\\Documents\\GitHub\\sabatini-glm-workflow\\sglm\\gen_signal_df.py:105: FutureWarning: Downcasting behavior in `replace` is deprecated and will be removed in a future version. To retain the old behavior, explicitly call `result.infer_objects(copy=False)`. To opt-in to the future behavior, set `pd.set_option('future.no_silent_downcasting', True)`\n",
      "  check['val_a'] = df_t['label'].str.slice(0, 1).replace('a', 0).replace('A', 1) + df_t['label'].str.slice(1, 2).replace('b', 0).replace('B', 2).replace('a', 4).replace('A', 6)\n",
      "C:\\Users\\mwall\\AppData\\Local\\Temp\\ipykernel_13676\\2922615450.py:100: FutureWarning: The provided callable <function sum at 0x0000020429FDC280> is currently using SeriesGroupBy.sum. In a future version of pandas, the provided callable will be used directly. To keep current behavior pass the string \"sum\" instead.\n",
      "  signal_df['r_trial'] = (signal_df.groupby('TrialNumber')['photometrySideInIndexr'].transform(np.sum) > 0) * 1.0\n",
      "C:\\Users\\mwall\\AppData\\Local\\Temp\\ipykernel_13676\\2922615450.py:101: FutureWarning: The provided callable <function sum at 0x0000020429FDC280> is currently using SeriesGroupBy.sum. In a future version of pandas, the provided callable will be used directly. To keep current behavior pass the string \"sum\" instead.\n",
      "  signal_df['nr_trial'] = (signal_df.groupby('TrialNumber')['photometrySideInIndexnr'].transform(np.sum) > 0) * 1.0\n"
     ]
    },
    {
     "name": "stdout",
     "output_type": "stream",
     "text": [
      "E:\\Dropbox (BOSTON UNIVERSITY)\\2ABT\\processed_photometry\\9010\\GLM_data\\GLM_SIGNALS_sstflp16_08062019.csv\n",
      "# of iterations 0 — Final max amount of duplicated Center Out Indices: 1\n"
     ]
    },
    {
     "name": "stderr",
     "output_type": "stream",
     "text": [
      "C:\\Users\\mwall\\Documents\\GitHub\\sabatini-glm-workflow\\sglm\\gen_signal_df.py:105: FutureWarning: Downcasting behavior in `replace` is deprecated and will be removed in a future version. To retain the old behavior, explicitly call `result.infer_objects(copy=False)`. To opt-in to the future behavior, set `pd.set_option('future.no_silent_downcasting', True)`\n",
      "  check['val_a'] = df_t['label'].str.slice(0, 1).replace('a', 0).replace('A', 1) + df_t['label'].str.slice(1, 2).replace('b', 0).replace('B', 2).replace('a', 4).replace('A', 6)\n",
      "C:\\Users\\mwall\\AppData\\Local\\Temp\\ipykernel_13676\\2922615450.py:100: FutureWarning: The provided callable <function sum at 0x0000020429FDC280> is currently using SeriesGroupBy.sum. In a future version of pandas, the provided callable will be used directly. To keep current behavior pass the string \"sum\" instead.\n",
      "  signal_df['r_trial'] = (signal_df.groupby('TrialNumber')['photometrySideInIndexr'].transform(np.sum) > 0) * 1.0\n",
      "C:\\Users\\mwall\\AppData\\Local\\Temp\\ipykernel_13676\\2922615450.py:101: FutureWarning: The provided callable <function sum at 0x0000020429FDC280> is currently using SeriesGroupBy.sum. In a future version of pandas, the provided callable will be used directly. To keep current behavior pass the string \"sum\" instead.\n",
      "  signal_df['nr_trial'] = (signal_df.groupby('TrialNumber')['photometrySideInIndexnr'].transform(np.sum) > 0) * 1.0\n"
     ]
    },
    {
     "name": "stdout",
     "output_type": "stream",
     "text": [
      "E:\\Dropbox (BOSTON UNIVERSITY)\\2ABT\\processed_photometry\\9010\\GLM_data\\GLM_SIGNALS_sstflp16_08092019.csv\n",
      "# of iterations 0 — Final max amount of duplicated Center Out Indices: 1\n"
     ]
    },
    {
     "name": "stderr",
     "output_type": "stream",
     "text": [
      "C:\\Users\\mwall\\Documents\\GitHub\\sabatini-glm-workflow\\sglm\\gen_signal_df.py:105: FutureWarning: Downcasting behavior in `replace` is deprecated and will be removed in a future version. To retain the old behavior, explicitly call `result.infer_objects(copy=False)`. To opt-in to the future behavior, set `pd.set_option('future.no_silent_downcasting', True)`\n",
      "  check['val_a'] = df_t['label'].str.slice(0, 1).replace('a', 0).replace('A', 1) + df_t['label'].str.slice(1, 2).replace('b', 0).replace('B', 2).replace('a', 4).replace('A', 6)\n",
      "C:\\Users\\mwall\\AppData\\Local\\Temp\\ipykernel_13676\\2922615450.py:100: FutureWarning: The provided callable <function sum at 0x0000020429FDC280> is currently using SeriesGroupBy.sum. In a future version of pandas, the provided callable will be used directly. To keep current behavior pass the string \"sum\" instead.\n",
      "  signal_df['r_trial'] = (signal_df.groupby('TrialNumber')['photometrySideInIndexr'].transform(np.sum) > 0) * 1.0\n",
      "C:\\Users\\mwall\\AppData\\Local\\Temp\\ipykernel_13676\\2922615450.py:101: FutureWarning: The provided callable <function sum at 0x0000020429FDC280> is currently using SeriesGroupBy.sum. In a future version of pandas, the provided callable will be used directly. To keep current behavior pass the string \"sum\" instead.\n",
      "  signal_df['nr_trial'] = (signal_df.groupby('TrialNumber')['photometrySideInIndexnr'].transform(np.sum) > 0) * 1.0\n"
     ]
    },
    {
     "name": "stdout",
     "output_type": "stream",
     "text": [
      "E:\\Dropbox (BOSTON UNIVERSITY)\\2ABT\\processed_photometry\\9010\\GLM_data\\GLM_SIGNALS_sstflp16_08142019.csv\n",
      "# of iterations 0 — Final max amount of duplicated Center Out Indices: 1\n"
     ]
    },
    {
     "name": "stderr",
     "output_type": "stream",
     "text": [
      "C:\\Users\\mwall\\Documents\\GitHub\\sabatini-glm-workflow\\sglm\\gen_signal_df.py:105: FutureWarning: Downcasting behavior in `replace` is deprecated and will be removed in a future version. To retain the old behavior, explicitly call `result.infer_objects(copy=False)`. To opt-in to the future behavior, set `pd.set_option('future.no_silent_downcasting', True)`\n",
      "  check['val_a'] = df_t['label'].str.slice(0, 1).replace('a', 0).replace('A', 1) + df_t['label'].str.slice(1, 2).replace('b', 0).replace('B', 2).replace('a', 4).replace('A', 6)\n",
      "C:\\Users\\mwall\\AppData\\Local\\Temp\\ipykernel_13676\\2922615450.py:100: FutureWarning: The provided callable <function sum at 0x0000020429FDC280> is currently using SeriesGroupBy.sum. In a future version of pandas, the provided callable will be used directly. To keep current behavior pass the string \"sum\" instead.\n",
      "  signal_df['r_trial'] = (signal_df.groupby('TrialNumber')['photometrySideInIndexr'].transform(np.sum) > 0) * 1.0\n",
      "C:\\Users\\mwall\\AppData\\Local\\Temp\\ipykernel_13676\\2922615450.py:101: FutureWarning: The provided callable <function sum at 0x0000020429FDC280> is currently using SeriesGroupBy.sum. In a future version of pandas, the provided callable will be used directly. To keep current behavior pass the string \"sum\" instead.\n",
      "  signal_df['nr_trial'] = (signal_df.groupby('TrialNumber')['photometrySideInIndexnr'].transform(np.sum) > 0) * 1.0\n"
     ]
    },
    {
     "name": "stdout",
     "output_type": "stream",
     "text": [
      "E:\\Dropbox (BOSTON UNIVERSITY)\\2ABT\\processed_photometry\\9010\\GLM_data\\GLM_SIGNALS_sstflp17_09052019.csv\n",
      "# of iterations 0 — Final max amount of duplicated Center Out Indices: 1\n"
     ]
    },
    {
     "name": "stderr",
     "output_type": "stream",
     "text": [
      "C:\\Users\\mwall\\Documents\\GitHub\\sabatini-glm-workflow\\sglm\\gen_signal_df.py:105: FutureWarning: Downcasting behavior in `replace` is deprecated and will be removed in a future version. To retain the old behavior, explicitly call `result.infer_objects(copy=False)`. To opt-in to the future behavior, set `pd.set_option('future.no_silent_downcasting', True)`\n",
      "  check['val_a'] = df_t['label'].str.slice(0, 1).replace('a', 0).replace('A', 1) + df_t['label'].str.slice(1, 2).replace('b', 0).replace('B', 2).replace('a', 4).replace('A', 6)\n",
      "C:\\Users\\mwall\\AppData\\Local\\Temp\\ipykernel_13676\\2922615450.py:100: FutureWarning: The provided callable <function sum at 0x0000020429FDC280> is currently using SeriesGroupBy.sum. In a future version of pandas, the provided callable will be used directly. To keep current behavior pass the string \"sum\" instead.\n",
      "  signal_df['r_trial'] = (signal_df.groupby('TrialNumber')['photometrySideInIndexr'].transform(np.sum) > 0) * 1.0\n",
      "C:\\Users\\mwall\\AppData\\Local\\Temp\\ipykernel_13676\\2922615450.py:101: FutureWarning: The provided callable <function sum at 0x0000020429FDC280> is currently using SeriesGroupBy.sum. In a future version of pandas, the provided callable will be used directly. To keep current behavior pass the string \"sum\" instead.\n",
      "  signal_df['nr_trial'] = (signal_df.groupby('TrialNumber')['photometrySideInIndexnr'].transform(np.sum) > 0) * 1.0\n"
     ]
    },
    {
     "name": "stdout",
     "output_type": "stream",
     "text": [
      "E:\\Dropbox (BOSTON UNIVERSITY)\\2ABT\\processed_photometry\\9010\\GLM_data\\GLM_SIGNALS_sstflp17_09112019.csv\n",
      "# of iterations 0 — Final max amount of duplicated Center Out Indices: 1\n"
     ]
    },
    {
     "name": "stderr",
     "output_type": "stream",
     "text": [
      "C:\\Users\\mwall\\Documents\\GitHub\\sabatini-glm-workflow\\sglm\\gen_signal_df.py:105: FutureWarning: Downcasting behavior in `replace` is deprecated and will be removed in a future version. To retain the old behavior, explicitly call `result.infer_objects(copy=False)`. To opt-in to the future behavior, set `pd.set_option('future.no_silent_downcasting', True)`\n",
      "  check['val_a'] = df_t['label'].str.slice(0, 1).replace('a', 0).replace('A', 1) + df_t['label'].str.slice(1, 2).replace('b', 0).replace('B', 2).replace('a', 4).replace('A', 6)\n",
      "C:\\Users\\mwall\\AppData\\Local\\Temp\\ipykernel_13676\\2922615450.py:100: FutureWarning: The provided callable <function sum at 0x0000020429FDC280> is currently using SeriesGroupBy.sum. In a future version of pandas, the provided callable will be used directly. To keep current behavior pass the string \"sum\" instead.\n",
      "  signal_df['r_trial'] = (signal_df.groupby('TrialNumber')['photometrySideInIndexr'].transform(np.sum) > 0) * 1.0\n",
      "C:\\Users\\mwall\\AppData\\Local\\Temp\\ipykernel_13676\\2922615450.py:101: FutureWarning: The provided callable <function sum at 0x0000020429FDC280> is currently using SeriesGroupBy.sum. In a future version of pandas, the provided callable will be used directly. To keep current behavior pass the string \"sum\" instead.\n",
      "  signal_df['nr_trial'] = (signal_df.groupby('TrialNumber')['photometrySideInIndexnr'].transform(np.sum) > 0) * 1.0\n"
     ]
    },
    {
     "name": "stdout",
     "output_type": "stream",
     "text": [
      "E:\\Dropbox (BOSTON UNIVERSITY)\\2ABT\\processed_photometry\\9010\\GLM_data\\GLM_SIGNALS_sstflp17_09232019.csv\n",
      "# of iterations 0 — Final max amount of duplicated Center Out Indices: 1\n"
     ]
    },
    {
     "name": "stderr",
     "output_type": "stream",
     "text": [
      "C:\\Users\\mwall\\Documents\\GitHub\\sabatini-glm-workflow\\sglm\\gen_signal_df.py:105: FutureWarning: Downcasting behavior in `replace` is deprecated and will be removed in a future version. To retain the old behavior, explicitly call `result.infer_objects(copy=False)`. To opt-in to the future behavior, set `pd.set_option('future.no_silent_downcasting', True)`\n",
      "  check['val_a'] = df_t['label'].str.slice(0, 1).replace('a', 0).replace('A', 1) + df_t['label'].str.slice(1, 2).replace('b', 0).replace('B', 2).replace('a', 4).replace('A', 6)\n",
      "C:\\Users\\mwall\\AppData\\Local\\Temp\\ipykernel_13676\\2922615450.py:100: FutureWarning: The provided callable <function sum at 0x0000020429FDC280> is currently using SeriesGroupBy.sum. In a future version of pandas, the provided callable will be used directly. To keep current behavior pass the string \"sum\" instead.\n",
      "  signal_df['r_trial'] = (signal_df.groupby('TrialNumber')['photometrySideInIndexr'].transform(np.sum) > 0) * 1.0\n",
      "C:\\Users\\mwall\\AppData\\Local\\Temp\\ipykernel_13676\\2922615450.py:101: FutureWarning: The provided callable <function sum at 0x0000020429FDC280> is currently using SeriesGroupBy.sum. In a future version of pandas, the provided callable will be used directly. To keep current behavior pass the string \"sum\" instead.\n",
      "  signal_df['nr_trial'] = (signal_df.groupby('TrialNumber')['photometrySideInIndexnr'].transform(np.sum) > 0) * 1.0\n"
     ]
    },
    {
     "name": "stdout",
     "output_type": "stream",
     "text": [
      "E:\\Dropbox (BOSTON UNIVERSITY)\\2ABT\\processed_photometry\\9010\\GLM_data\\GLM_SIGNALS_sstflp17_09302019.csv\n",
      "# of iterations 0 — Final max amount of duplicated Center Out Indices: 1\n"
     ]
    },
    {
     "name": "stderr",
     "output_type": "stream",
     "text": [
      "C:\\Users\\mwall\\Documents\\GitHub\\sabatini-glm-workflow\\sglm\\gen_signal_df.py:105: FutureWarning: Downcasting behavior in `replace` is deprecated and will be removed in a future version. To retain the old behavior, explicitly call `result.infer_objects(copy=False)`. To opt-in to the future behavior, set `pd.set_option('future.no_silent_downcasting', True)`\n",
      "  check['val_a'] = df_t['label'].str.slice(0, 1).replace('a', 0).replace('A', 1) + df_t['label'].str.slice(1, 2).replace('b', 0).replace('B', 2).replace('a', 4).replace('A', 6)\n",
      "C:\\Users\\mwall\\AppData\\Local\\Temp\\ipykernel_13676\\2922615450.py:100: FutureWarning: The provided callable <function sum at 0x0000020429FDC280> is currently using SeriesGroupBy.sum. In a future version of pandas, the provided callable will be used directly. To keep current behavior pass the string \"sum\" instead.\n",
      "  signal_df['r_trial'] = (signal_df.groupby('TrialNumber')['photometrySideInIndexr'].transform(np.sum) > 0) * 1.0\n",
      "C:\\Users\\mwall\\AppData\\Local\\Temp\\ipykernel_13676\\2922615450.py:101: FutureWarning: The provided callable <function sum at 0x0000020429FDC280> is currently using SeriesGroupBy.sum. In a future version of pandas, the provided callable will be used directly. To keep current behavior pass the string \"sum\" instead.\n",
      "  signal_df['nr_trial'] = (signal_df.groupby('TrialNumber')['photometrySideInIndexnr'].transform(np.sum) > 0) * 1.0\n"
     ]
    },
    {
     "name": "stdout",
     "output_type": "stream",
     "text": [
      "E:\\Dropbox (BOSTON UNIVERSITY)\\2ABT\\processed_photometry\\9010\\GLM_data\\GLM_SIGNALS_sstflp17_10042019.csv\n",
      "# of iterations 0 — Final max amount of duplicated Center Out Indices: 1\n"
     ]
    },
    {
     "name": "stderr",
     "output_type": "stream",
     "text": [
      "C:\\Users\\mwall\\Documents\\GitHub\\sabatini-glm-workflow\\sglm\\gen_signal_df.py:105: FutureWarning: Downcasting behavior in `replace` is deprecated and will be removed in a future version. To retain the old behavior, explicitly call `result.infer_objects(copy=False)`. To opt-in to the future behavior, set `pd.set_option('future.no_silent_downcasting', True)`\n",
      "  check['val_a'] = df_t['label'].str.slice(0, 1).replace('a', 0).replace('A', 1) + df_t['label'].str.slice(1, 2).replace('b', 0).replace('B', 2).replace('a', 4).replace('A', 6)\n",
      "C:\\Users\\mwall\\AppData\\Local\\Temp\\ipykernel_13676\\2922615450.py:100: FutureWarning: The provided callable <function sum at 0x0000020429FDC280> is currently using SeriesGroupBy.sum. In a future version of pandas, the provided callable will be used directly. To keep current behavior pass the string \"sum\" instead.\n",
      "  signal_df['r_trial'] = (signal_df.groupby('TrialNumber')['photometrySideInIndexr'].transform(np.sum) > 0) * 1.0\n",
      "C:\\Users\\mwall\\AppData\\Local\\Temp\\ipykernel_13676\\2922615450.py:101: FutureWarning: The provided callable <function sum at 0x0000020429FDC280> is currently using SeriesGroupBy.sum. In a future version of pandas, the provided callable will be used directly. To keep current behavior pass the string \"sum\" instead.\n",
      "  signal_df['nr_trial'] = (signal_df.groupby('TrialNumber')['photometrySideInIndexnr'].transform(np.sum) > 0) * 1.0\n"
     ]
    },
    {
     "name": "stdout",
     "output_type": "stream",
     "text": [
      "E:\\Dropbox (BOSTON UNIVERSITY)\\2ABT\\processed_photometry\\9010\\GLM_data\\GLM_SIGNALS_sstflp17_10102019.csv\n",
      "# of iterations 0 — Final max amount of duplicated Center Out Indices: 1\n"
     ]
    },
    {
     "name": "stderr",
     "output_type": "stream",
     "text": [
      "C:\\Users\\mwall\\Documents\\GitHub\\sabatini-glm-workflow\\sglm\\gen_signal_df.py:105: FutureWarning: Downcasting behavior in `replace` is deprecated and will be removed in a future version. To retain the old behavior, explicitly call `result.infer_objects(copy=False)`. To opt-in to the future behavior, set `pd.set_option('future.no_silent_downcasting', True)`\n",
      "  check['val_a'] = df_t['label'].str.slice(0, 1).replace('a', 0).replace('A', 1) + df_t['label'].str.slice(1, 2).replace('b', 0).replace('B', 2).replace('a', 4).replace('A', 6)\n",
      "C:\\Users\\mwall\\AppData\\Local\\Temp\\ipykernel_13676\\2922615450.py:100: FutureWarning: The provided callable <function sum at 0x0000020429FDC280> is currently using SeriesGroupBy.sum. In a future version of pandas, the provided callable will be used directly. To keep current behavior pass the string \"sum\" instead.\n",
      "  signal_df['r_trial'] = (signal_df.groupby('TrialNumber')['photometrySideInIndexr'].transform(np.sum) > 0) * 1.0\n",
      "C:\\Users\\mwall\\AppData\\Local\\Temp\\ipykernel_13676\\2922615450.py:101: FutureWarning: The provided callable <function sum at 0x0000020429FDC280> is currently using SeriesGroupBy.sum. In a future version of pandas, the provided callable will be used directly. To keep current behavior pass the string \"sum\" instead.\n",
      "  signal_df['nr_trial'] = (signal_df.groupby('TrialNumber')['photometrySideInIndexnr'].transform(np.sum) > 0) * 1.0\n"
     ]
    },
    {
     "name": "stdout",
     "output_type": "stream",
     "text": [
      "E:\\Dropbox (BOSTON UNIVERSITY)\\2ABT\\processed_photometry\\9010\\GLM_data\\GLM_SIGNALS_sstflp17_10172019.csv\n",
      "# of iterations 0 — Final max amount of duplicated Center Out Indices: 1\n"
     ]
    },
    {
     "name": "stderr",
     "output_type": "stream",
     "text": [
      "C:\\Users\\mwall\\Documents\\GitHub\\sabatini-glm-workflow\\sglm\\gen_signal_df.py:105: FutureWarning: Downcasting behavior in `replace` is deprecated and will be removed in a future version. To retain the old behavior, explicitly call `result.infer_objects(copy=False)`. To opt-in to the future behavior, set `pd.set_option('future.no_silent_downcasting', True)`\n",
      "  check['val_a'] = df_t['label'].str.slice(0, 1).replace('a', 0).replace('A', 1) + df_t['label'].str.slice(1, 2).replace('b', 0).replace('B', 2).replace('a', 4).replace('A', 6)\n",
      "C:\\Users\\mwall\\AppData\\Local\\Temp\\ipykernel_13676\\2922615450.py:100: FutureWarning: The provided callable <function sum at 0x0000020429FDC280> is currently using SeriesGroupBy.sum. In a future version of pandas, the provided callable will be used directly. To keep current behavior pass the string \"sum\" instead.\n",
      "  signal_df['r_trial'] = (signal_df.groupby('TrialNumber')['photometrySideInIndexr'].transform(np.sum) > 0) * 1.0\n",
      "C:\\Users\\mwall\\AppData\\Local\\Temp\\ipykernel_13676\\2922615450.py:101: FutureWarning: The provided callable <function sum at 0x0000020429FDC280> is currently using SeriesGroupBy.sum. In a future version of pandas, the provided callable will be used directly. To keep current behavior pass the string \"sum\" instead.\n",
      "  signal_df['nr_trial'] = (signal_df.groupby('TrialNumber')['photometrySideInIndexnr'].transform(np.sum) > 0) * 1.0\n"
     ]
    },
    {
     "name": "stdout",
     "output_type": "stream",
     "text": [
      "E:\\Dropbox (BOSTON UNIVERSITY)\\2ABT\\processed_photometry\\9010\\GLM_data\\GLM_SIGNALS_sstflp17_10292019.csv\n",
      "# of iterations 0 — Final max amount of duplicated Center Out Indices: 1\n"
     ]
    },
    {
     "name": "stderr",
     "output_type": "stream",
     "text": [
      "C:\\Users\\mwall\\Documents\\GitHub\\sabatini-glm-workflow\\sglm\\gen_signal_df.py:105: FutureWarning: Downcasting behavior in `replace` is deprecated and will be removed in a future version. To retain the old behavior, explicitly call `result.infer_objects(copy=False)`. To opt-in to the future behavior, set `pd.set_option('future.no_silent_downcasting', True)`\n",
      "  check['val_a'] = df_t['label'].str.slice(0, 1).replace('a', 0).replace('A', 1) + df_t['label'].str.slice(1, 2).replace('b', 0).replace('B', 2).replace('a', 4).replace('A', 6)\n",
      "C:\\Users\\mwall\\AppData\\Local\\Temp\\ipykernel_13676\\2922615450.py:100: FutureWarning: The provided callable <function sum at 0x0000020429FDC280> is currently using SeriesGroupBy.sum. In a future version of pandas, the provided callable will be used directly. To keep current behavior pass the string \"sum\" instead.\n",
      "  signal_df['r_trial'] = (signal_df.groupby('TrialNumber')['photometrySideInIndexr'].transform(np.sum) > 0) * 1.0\n",
      "C:\\Users\\mwall\\AppData\\Local\\Temp\\ipykernel_13676\\2922615450.py:101: FutureWarning: The provided callable <function sum at 0x0000020429FDC280> is currently using SeriesGroupBy.sum. In a future version of pandas, the provided callable will be used directly. To keep current behavior pass the string \"sum\" instead.\n",
      "  signal_df['nr_trial'] = (signal_df.groupby('TrialNumber')['photometrySideInIndexnr'].transform(np.sum) > 0) * 1.0\n"
     ]
    },
    {
     "name": "stdout",
     "output_type": "stream",
     "text": [
      "E:\\Dropbox (BOSTON UNIVERSITY)\\2ABT\\processed_photometry\\9010\\GLM_data\\GLM_SIGNALS_sstflp24_01152021.csv\n",
      "# of iterations 0 — Final max amount of duplicated Center Out Indices: 1\n"
     ]
    },
    {
     "name": "stderr",
     "output_type": "stream",
     "text": [
      "C:\\Users\\mwall\\Documents\\GitHub\\sabatini-glm-workflow\\sglm\\gen_signal_df.py:105: FutureWarning: Downcasting behavior in `replace` is deprecated and will be removed in a future version. To retain the old behavior, explicitly call `result.infer_objects(copy=False)`. To opt-in to the future behavior, set `pd.set_option('future.no_silent_downcasting', True)`\n",
      "  check['val_a'] = df_t['label'].str.slice(0, 1).replace('a', 0).replace('A', 1) + df_t['label'].str.slice(1, 2).replace('b', 0).replace('B', 2).replace('a', 4).replace('A', 6)\n",
      "C:\\Users\\mwall\\AppData\\Local\\Temp\\ipykernel_13676\\2922615450.py:100: FutureWarning: The provided callable <function sum at 0x0000020429FDC280> is currently using SeriesGroupBy.sum. In a future version of pandas, the provided callable will be used directly. To keep current behavior pass the string \"sum\" instead.\n",
      "  signal_df['r_trial'] = (signal_df.groupby('TrialNumber')['photometrySideInIndexr'].transform(np.sum) > 0) * 1.0\n",
      "C:\\Users\\mwall\\AppData\\Local\\Temp\\ipykernel_13676\\2922615450.py:101: FutureWarning: The provided callable <function sum at 0x0000020429FDC280> is currently using SeriesGroupBy.sum. In a future version of pandas, the provided callable will be used directly. To keep current behavior pass the string \"sum\" instead.\n",
      "  signal_df['nr_trial'] = (signal_df.groupby('TrialNumber')['photometrySideInIndexnr'].transform(np.sum) > 0) * 1.0\n"
     ]
    },
    {
     "name": "stdout",
     "output_type": "stream",
     "text": [
      "E:\\Dropbox (BOSTON UNIVERSITY)\\2ABT\\processed_photometry\\9010\\GLM_data\\GLM_SIGNALS_sstflp24_01252021.csv\n",
      "# of iterations 0 — Final max amount of duplicated Center Out Indices: 1\n"
     ]
    },
    {
     "name": "stderr",
     "output_type": "stream",
     "text": [
      "C:\\Users\\mwall\\Documents\\GitHub\\sabatini-glm-workflow\\sglm\\gen_signal_df.py:105: FutureWarning: Downcasting behavior in `replace` is deprecated and will be removed in a future version. To retain the old behavior, explicitly call `result.infer_objects(copy=False)`. To opt-in to the future behavior, set `pd.set_option('future.no_silent_downcasting', True)`\n",
      "  check['val_a'] = df_t['label'].str.slice(0, 1).replace('a', 0).replace('A', 1) + df_t['label'].str.slice(1, 2).replace('b', 0).replace('B', 2).replace('a', 4).replace('A', 6)\n",
      "C:\\Users\\mwall\\AppData\\Local\\Temp\\ipykernel_13676\\2922615450.py:100: FutureWarning: The provided callable <function sum at 0x0000020429FDC280> is currently using SeriesGroupBy.sum. In a future version of pandas, the provided callable will be used directly. To keep current behavior pass the string \"sum\" instead.\n",
      "  signal_df['r_trial'] = (signal_df.groupby('TrialNumber')['photometrySideInIndexr'].transform(np.sum) > 0) * 1.0\n",
      "C:\\Users\\mwall\\AppData\\Local\\Temp\\ipykernel_13676\\2922615450.py:101: FutureWarning: The provided callable <function sum at 0x0000020429FDC280> is currently using SeriesGroupBy.sum. In a future version of pandas, the provided callable will be used directly. To keep current behavior pass the string \"sum\" instead.\n",
      "  signal_df['nr_trial'] = (signal_df.groupby('TrialNumber')['photometrySideInIndexnr'].transform(np.sum) > 0) * 1.0\n"
     ]
    },
    {
     "name": "stdout",
     "output_type": "stream",
     "text": [
      "E:\\Dropbox (BOSTON UNIVERSITY)\\2ABT\\processed_photometry\\9010\\GLM_data\\GLM_SIGNALS_sstflp24_01292021.csv\n",
      "# of iterations 0 — Final max amount of duplicated Center Out Indices: 1\n"
     ]
    },
    {
     "name": "stderr",
     "output_type": "stream",
     "text": [
      "C:\\Users\\mwall\\Documents\\GitHub\\sabatini-glm-workflow\\sglm\\gen_signal_df.py:105: FutureWarning: Downcasting behavior in `replace` is deprecated and will be removed in a future version. To retain the old behavior, explicitly call `result.infer_objects(copy=False)`. To opt-in to the future behavior, set `pd.set_option('future.no_silent_downcasting', True)`\n",
      "  check['val_a'] = df_t['label'].str.slice(0, 1).replace('a', 0).replace('A', 1) + df_t['label'].str.slice(1, 2).replace('b', 0).replace('B', 2).replace('a', 4).replace('A', 6)\n",
      "C:\\Users\\mwall\\AppData\\Local\\Temp\\ipykernel_13676\\2922615450.py:100: FutureWarning: The provided callable <function sum at 0x0000020429FDC280> is currently using SeriesGroupBy.sum. In a future version of pandas, the provided callable will be used directly. To keep current behavior pass the string \"sum\" instead.\n",
      "  signal_df['r_trial'] = (signal_df.groupby('TrialNumber')['photometrySideInIndexr'].transform(np.sum) > 0) * 1.0\n",
      "C:\\Users\\mwall\\AppData\\Local\\Temp\\ipykernel_13676\\2922615450.py:101: FutureWarning: The provided callable <function sum at 0x0000020429FDC280> is currently using SeriesGroupBy.sum. In a future version of pandas, the provided callable will be used directly. To keep current behavior pass the string \"sum\" instead.\n",
      "  signal_df['nr_trial'] = (signal_df.groupby('TrialNumber')['photometrySideInIndexnr'].transform(np.sum) > 0) * 1.0\n"
     ]
    },
    {
     "name": "stdout",
     "output_type": "stream",
     "text": [
      "E:\\Dropbox (BOSTON UNIVERSITY)\\2ABT\\processed_photometry\\9010\\GLM_data\\GLM_SIGNALS_sstflp24_02042021.csv\n",
      "# of iterations 0 — Final max amount of duplicated Center Out Indices: 1\n"
     ]
    },
    {
     "name": "stderr",
     "output_type": "stream",
     "text": [
      "C:\\Users\\mwall\\Documents\\GitHub\\sabatini-glm-workflow\\sglm\\gen_signal_df.py:105: FutureWarning: Downcasting behavior in `replace` is deprecated and will be removed in a future version. To retain the old behavior, explicitly call `result.infer_objects(copy=False)`. To opt-in to the future behavior, set `pd.set_option('future.no_silent_downcasting', True)`\n",
      "  check['val_a'] = df_t['label'].str.slice(0, 1).replace('a', 0).replace('A', 1) + df_t['label'].str.slice(1, 2).replace('b', 0).replace('B', 2).replace('a', 4).replace('A', 6)\n",
      "C:\\Users\\mwall\\AppData\\Local\\Temp\\ipykernel_13676\\2922615450.py:100: FutureWarning: The provided callable <function sum at 0x0000020429FDC280> is currently using SeriesGroupBy.sum. In a future version of pandas, the provided callable will be used directly. To keep current behavior pass the string \"sum\" instead.\n",
      "  signal_df['r_trial'] = (signal_df.groupby('TrialNumber')['photometrySideInIndexr'].transform(np.sum) > 0) * 1.0\n",
      "C:\\Users\\mwall\\AppData\\Local\\Temp\\ipykernel_13676\\2922615450.py:101: FutureWarning: The provided callable <function sum at 0x0000020429FDC280> is currently using SeriesGroupBy.sum. In a future version of pandas, the provided callable will be used directly. To keep current behavior pass the string \"sum\" instead.\n",
      "  signal_df['nr_trial'] = (signal_df.groupby('TrialNumber')['photometrySideInIndexnr'].transform(np.sum) > 0) * 1.0\n"
     ]
    },
    {
     "name": "stdout",
     "output_type": "stream",
     "text": [
      "E:\\Dropbox (BOSTON UNIVERSITY)\\2ABT\\processed_photometry\\9010\\GLM_data\\GLM_SIGNALS_sstflp24_02102021.csv\n",
      "# of iterations 0 — Final max amount of duplicated Center Out Indices: 1\n"
     ]
    },
    {
     "name": "stderr",
     "output_type": "stream",
     "text": [
      "C:\\Users\\mwall\\Documents\\GitHub\\sabatini-glm-workflow\\sglm\\gen_signal_df.py:105: FutureWarning: Downcasting behavior in `replace` is deprecated and will be removed in a future version. To retain the old behavior, explicitly call `result.infer_objects(copy=False)`. To opt-in to the future behavior, set `pd.set_option('future.no_silent_downcasting', True)`\n",
      "  check['val_a'] = df_t['label'].str.slice(0, 1).replace('a', 0).replace('A', 1) + df_t['label'].str.slice(1, 2).replace('b', 0).replace('B', 2).replace('a', 4).replace('A', 6)\n",
      "C:\\Users\\mwall\\AppData\\Local\\Temp\\ipykernel_13676\\2922615450.py:100: FutureWarning: The provided callable <function sum at 0x0000020429FDC280> is currently using SeriesGroupBy.sum. In a future version of pandas, the provided callable will be used directly. To keep current behavior pass the string \"sum\" instead.\n",
      "  signal_df['r_trial'] = (signal_df.groupby('TrialNumber')['photometrySideInIndexr'].transform(np.sum) > 0) * 1.0\n",
      "C:\\Users\\mwall\\AppData\\Local\\Temp\\ipykernel_13676\\2922615450.py:101: FutureWarning: The provided callable <function sum at 0x0000020429FDC280> is currently using SeriesGroupBy.sum. In a future version of pandas, the provided callable will be used directly. To keep current behavior pass the string \"sum\" instead.\n",
      "  signal_df['nr_trial'] = (signal_df.groupby('TrialNumber')['photometrySideInIndexnr'].transform(np.sum) > 0) * 1.0\n"
     ]
    },
    {
     "name": "stdout",
     "output_type": "stream",
     "text": [
      "E:\\Dropbox (BOSTON UNIVERSITY)\\2ABT\\processed_photometry\\9010\\GLM_data\\GLM_SIGNALS_sstflp24_02182021.csv\n",
      "# of iterations 0 — Final max amount of duplicated Center Out Indices: 1\n"
     ]
    },
    {
     "name": "stderr",
     "output_type": "stream",
     "text": [
      "C:\\Users\\mwall\\Documents\\GitHub\\sabatini-glm-workflow\\sglm\\gen_signal_df.py:105: FutureWarning: Downcasting behavior in `replace` is deprecated and will be removed in a future version. To retain the old behavior, explicitly call `result.infer_objects(copy=False)`. To opt-in to the future behavior, set `pd.set_option('future.no_silent_downcasting', True)`\n",
      "  check['val_a'] = df_t['label'].str.slice(0, 1).replace('a', 0).replace('A', 1) + df_t['label'].str.slice(1, 2).replace('b', 0).replace('B', 2).replace('a', 4).replace('A', 6)\n",
      "C:\\Users\\mwall\\AppData\\Local\\Temp\\ipykernel_13676\\2922615450.py:100: FutureWarning: The provided callable <function sum at 0x0000020429FDC280> is currently using SeriesGroupBy.sum. In a future version of pandas, the provided callable will be used directly. To keep current behavior pass the string \"sum\" instead.\n",
      "  signal_df['r_trial'] = (signal_df.groupby('TrialNumber')['photometrySideInIndexr'].transform(np.sum) > 0) * 1.0\n",
      "C:\\Users\\mwall\\AppData\\Local\\Temp\\ipykernel_13676\\2922615450.py:101: FutureWarning: The provided callable <function sum at 0x0000020429FDC280> is currently using SeriesGroupBy.sum. In a future version of pandas, the provided callable will be used directly. To keep current behavior pass the string \"sum\" instead.\n",
      "  signal_df['nr_trial'] = (signal_df.groupby('TrialNumber')['photometrySideInIndexnr'].transform(np.sum) > 0) * 1.0\n"
     ]
    },
    {
     "name": "stdout",
     "output_type": "stream",
     "text": [
      "E:\\Dropbox (BOSTON UNIVERSITY)\\2ABT\\processed_photometry\\9010\\GLM_data\\GLM_SIGNALS_sstflp24_02232021.csv\n",
      "# of iterations 0 — Final max amount of duplicated Center Out Indices: 1\n"
     ]
    },
    {
     "name": "stderr",
     "output_type": "stream",
     "text": [
      "C:\\Users\\mwall\\Documents\\GitHub\\sabatini-glm-workflow\\sglm\\gen_signal_df.py:105: FutureWarning: Downcasting behavior in `replace` is deprecated and will be removed in a future version. To retain the old behavior, explicitly call `result.infer_objects(copy=False)`. To opt-in to the future behavior, set `pd.set_option('future.no_silent_downcasting', True)`\n",
      "  check['val_a'] = df_t['label'].str.slice(0, 1).replace('a', 0).replace('A', 1) + df_t['label'].str.slice(1, 2).replace('b', 0).replace('B', 2).replace('a', 4).replace('A', 6)\n",
      "C:\\Users\\mwall\\AppData\\Local\\Temp\\ipykernel_13676\\2922615450.py:100: FutureWarning: The provided callable <function sum at 0x0000020429FDC280> is currently using SeriesGroupBy.sum. In a future version of pandas, the provided callable will be used directly. To keep current behavior pass the string \"sum\" instead.\n",
      "  signal_df['r_trial'] = (signal_df.groupby('TrialNumber')['photometrySideInIndexr'].transform(np.sum) > 0) * 1.0\n",
      "C:\\Users\\mwall\\AppData\\Local\\Temp\\ipykernel_13676\\2922615450.py:101: FutureWarning: The provided callable <function sum at 0x0000020429FDC280> is currently using SeriesGroupBy.sum. In a future version of pandas, the provided callable will be used directly. To keep current behavior pass the string \"sum\" instead.\n",
      "  signal_df['nr_trial'] = (signal_df.groupby('TrialNumber')['photometrySideInIndexnr'].transform(np.sum) > 0) * 1.0\n"
     ]
    },
    {
     "name": "stdout",
     "output_type": "stream",
     "text": [
      "E:\\Dropbox (BOSTON UNIVERSITY)\\2ABT\\processed_photometry\\9010\\GLM_data\\GLM_SIGNALS_sstflp25_01202021.csv\n",
      "# of iterations 0 — Final max amount of duplicated Center Out Indices: 1\n"
     ]
    },
    {
     "name": "stderr",
     "output_type": "stream",
     "text": [
      "C:\\Users\\mwall\\Documents\\GitHub\\sabatini-glm-workflow\\sglm\\gen_signal_df.py:105: FutureWarning: Downcasting behavior in `replace` is deprecated and will be removed in a future version. To retain the old behavior, explicitly call `result.infer_objects(copy=False)`. To opt-in to the future behavior, set `pd.set_option('future.no_silent_downcasting', True)`\n",
      "  check['val_a'] = df_t['label'].str.slice(0, 1).replace('a', 0).replace('A', 1) + df_t['label'].str.slice(1, 2).replace('b', 0).replace('B', 2).replace('a', 4).replace('A', 6)\n",
      "C:\\Users\\mwall\\AppData\\Local\\Temp\\ipykernel_13676\\2922615450.py:100: FutureWarning: The provided callable <function sum at 0x0000020429FDC280> is currently using SeriesGroupBy.sum. In a future version of pandas, the provided callable will be used directly. To keep current behavior pass the string \"sum\" instead.\n",
      "  signal_df['r_trial'] = (signal_df.groupby('TrialNumber')['photometrySideInIndexr'].transform(np.sum) > 0) * 1.0\n",
      "C:\\Users\\mwall\\AppData\\Local\\Temp\\ipykernel_13676\\2922615450.py:101: FutureWarning: The provided callable <function sum at 0x0000020429FDC280> is currently using SeriesGroupBy.sum. In a future version of pandas, the provided callable will be used directly. To keep current behavior pass the string \"sum\" instead.\n",
      "  signal_df['nr_trial'] = (signal_df.groupby('TrialNumber')['photometrySideInIndexnr'].transform(np.sum) > 0) * 1.0\n"
     ]
    },
    {
     "name": "stdout",
     "output_type": "stream",
     "text": [
      "E:\\Dropbox (BOSTON UNIVERSITY)\\2ABT\\processed_photometry\\9010\\GLM_data\\GLM_SIGNALS_sstflp25_01262021.csv\n",
      "# of iterations 0 — Final max amount of duplicated Center Out Indices: 1\n"
     ]
    },
    {
     "name": "stderr",
     "output_type": "stream",
     "text": [
      "C:\\Users\\mwall\\Documents\\GitHub\\sabatini-glm-workflow\\sglm\\gen_signal_df.py:105: FutureWarning: Downcasting behavior in `replace` is deprecated and will be removed in a future version. To retain the old behavior, explicitly call `result.infer_objects(copy=False)`. To opt-in to the future behavior, set `pd.set_option('future.no_silent_downcasting', True)`\n",
      "  check['val_a'] = df_t['label'].str.slice(0, 1).replace('a', 0).replace('A', 1) + df_t['label'].str.slice(1, 2).replace('b', 0).replace('B', 2).replace('a', 4).replace('A', 6)\n",
      "C:\\Users\\mwall\\AppData\\Local\\Temp\\ipykernel_13676\\2922615450.py:100: FutureWarning: The provided callable <function sum at 0x0000020429FDC280> is currently using SeriesGroupBy.sum. In a future version of pandas, the provided callable will be used directly. To keep current behavior pass the string \"sum\" instead.\n",
      "  signal_df['r_trial'] = (signal_df.groupby('TrialNumber')['photometrySideInIndexr'].transform(np.sum) > 0) * 1.0\n",
      "C:\\Users\\mwall\\AppData\\Local\\Temp\\ipykernel_13676\\2922615450.py:101: FutureWarning: The provided callable <function sum at 0x0000020429FDC280> is currently using SeriesGroupBy.sum. In a future version of pandas, the provided callable will be used directly. To keep current behavior pass the string \"sum\" instead.\n",
      "  signal_df['nr_trial'] = (signal_df.groupby('TrialNumber')['photometrySideInIndexnr'].transform(np.sum) > 0) * 1.0\n"
     ]
    },
    {
     "name": "stdout",
     "output_type": "stream",
     "text": [
      "E:\\Dropbox (BOSTON UNIVERSITY)\\2ABT\\processed_photometry\\9010\\GLM_data\\GLM_SIGNALS_sstflp25_02052021.csv\n",
      "# of iterations 0 — Final max amount of duplicated Center Out Indices: 1\n"
     ]
    },
    {
     "name": "stderr",
     "output_type": "stream",
     "text": [
      "C:\\Users\\mwall\\Documents\\GitHub\\sabatini-glm-workflow\\sglm\\gen_signal_df.py:105: FutureWarning: Downcasting behavior in `replace` is deprecated and will be removed in a future version. To retain the old behavior, explicitly call `result.infer_objects(copy=False)`. To opt-in to the future behavior, set `pd.set_option('future.no_silent_downcasting', True)`\n",
      "  check['val_a'] = df_t['label'].str.slice(0, 1).replace('a', 0).replace('A', 1) + df_t['label'].str.slice(1, 2).replace('b', 0).replace('B', 2).replace('a', 4).replace('A', 6)\n",
      "C:\\Users\\mwall\\AppData\\Local\\Temp\\ipykernel_13676\\2922615450.py:100: FutureWarning: The provided callable <function sum at 0x0000020429FDC280> is currently using SeriesGroupBy.sum. In a future version of pandas, the provided callable will be used directly. To keep current behavior pass the string \"sum\" instead.\n",
      "  signal_df['r_trial'] = (signal_df.groupby('TrialNumber')['photometrySideInIndexr'].transform(np.sum) > 0) * 1.0\n",
      "C:\\Users\\mwall\\AppData\\Local\\Temp\\ipykernel_13676\\2922615450.py:101: FutureWarning: The provided callable <function sum at 0x0000020429FDC280> is currently using SeriesGroupBy.sum. In a future version of pandas, the provided callable will be used directly. To keep current behavior pass the string \"sum\" instead.\n",
      "  signal_df['nr_trial'] = (signal_df.groupby('TrialNumber')['photometrySideInIndexnr'].transform(np.sum) > 0) * 1.0\n"
     ]
    },
    {
     "name": "stdout",
     "output_type": "stream",
     "text": [
      "E:\\Dropbox (BOSTON UNIVERSITY)\\2ABT\\processed_photometry\\9010\\GLM_data\\GLM_SIGNALS_sstflp25_02112021.csv\n",
      "# of iterations 0 — Final max amount of duplicated Center Out Indices: 1\n"
     ]
    },
    {
     "name": "stderr",
     "output_type": "stream",
     "text": [
      "C:\\Users\\mwall\\Documents\\GitHub\\sabatini-glm-workflow\\sglm\\gen_signal_df.py:105: FutureWarning: Downcasting behavior in `replace` is deprecated and will be removed in a future version. To retain the old behavior, explicitly call `result.infer_objects(copy=False)`. To opt-in to the future behavior, set `pd.set_option('future.no_silent_downcasting', True)`\n",
      "  check['val_a'] = df_t['label'].str.slice(0, 1).replace('a', 0).replace('A', 1) + df_t['label'].str.slice(1, 2).replace('b', 0).replace('B', 2).replace('a', 4).replace('A', 6)\n",
      "C:\\Users\\mwall\\AppData\\Local\\Temp\\ipykernel_13676\\2922615450.py:100: FutureWarning: The provided callable <function sum at 0x0000020429FDC280> is currently using SeriesGroupBy.sum. In a future version of pandas, the provided callable will be used directly. To keep current behavior pass the string \"sum\" instead.\n",
      "  signal_df['r_trial'] = (signal_df.groupby('TrialNumber')['photometrySideInIndexr'].transform(np.sum) > 0) * 1.0\n",
      "C:\\Users\\mwall\\AppData\\Local\\Temp\\ipykernel_13676\\2922615450.py:101: FutureWarning: The provided callable <function sum at 0x0000020429FDC280> is currently using SeriesGroupBy.sum. In a future version of pandas, the provided callable will be used directly. To keep current behavior pass the string \"sum\" instead.\n",
      "  signal_df['nr_trial'] = (signal_df.groupby('TrialNumber')['photometrySideInIndexnr'].transform(np.sum) > 0) * 1.0\n"
     ]
    },
    {
     "name": "stdout",
     "output_type": "stream",
     "text": [
      "E:\\Dropbox (BOSTON UNIVERSITY)\\2ABT\\processed_photometry\\9010\\GLM_data\\GLM_SIGNALS_sstflp25_02192021.csv\n",
      "# of iterations 0 — Final max amount of duplicated Center Out Indices: 1\n"
     ]
    },
    {
     "name": "stderr",
     "output_type": "stream",
     "text": [
      "C:\\Users\\mwall\\Documents\\GitHub\\sabatini-glm-workflow\\sglm\\gen_signal_df.py:105: FutureWarning: Downcasting behavior in `replace` is deprecated and will be removed in a future version. To retain the old behavior, explicitly call `result.infer_objects(copy=False)`. To opt-in to the future behavior, set `pd.set_option('future.no_silent_downcasting', True)`\n",
      "  check['val_a'] = df_t['label'].str.slice(0, 1).replace('a', 0).replace('A', 1) + df_t['label'].str.slice(1, 2).replace('b', 0).replace('B', 2).replace('a', 4).replace('A', 6)\n",
      "C:\\Users\\mwall\\AppData\\Local\\Temp\\ipykernel_13676\\2922615450.py:100: FutureWarning: The provided callable <function sum at 0x0000020429FDC280> is currently using SeriesGroupBy.sum. In a future version of pandas, the provided callable will be used directly. To keep current behavior pass the string \"sum\" instead.\n",
      "  signal_df['r_trial'] = (signal_df.groupby('TrialNumber')['photometrySideInIndexr'].transform(np.sum) > 0) * 1.0\n",
      "C:\\Users\\mwall\\AppData\\Local\\Temp\\ipykernel_13676\\2922615450.py:101: FutureWarning: The provided callable <function sum at 0x0000020429FDC280> is currently using SeriesGroupBy.sum. In a future version of pandas, the provided callable will be used directly. To keep current behavior pass the string \"sum\" instead.\n",
      "  signal_df['nr_trial'] = (signal_df.groupby('TrialNumber')['photometrySideInIndexnr'].transform(np.sum) > 0) * 1.0\n"
     ]
    },
    {
     "name": "stdout",
     "output_type": "stream",
     "text": [
      "E:\\Dropbox (BOSTON UNIVERSITY)\\2ABT\\processed_photometry\\9010\\GLM_data\\GLM_SIGNALS_sstflp25_02242021.csv\n",
      "# of iterations 0 — Final max amount of duplicated Center Out Indices: 1\n"
     ]
    },
    {
     "name": "stderr",
     "output_type": "stream",
     "text": [
      "C:\\Users\\mwall\\Documents\\GitHub\\sabatini-glm-workflow\\sglm\\gen_signal_df.py:105: FutureWarning: Downcasting behavior in `replace` is deprecated and will be removed in a future version. To retain the old behavior, explicitly call `result.infer_objects(copy=False)`. To opt-in to the future behavior, set `pd.set_option('future.no_silent_downcasting', True)`\n",
      "  check['val_a'] = df_t['label'].str.slice(0, 1).replace('a', 0).replace('A', 1) + df_t['label'].str.slice(1, 2).replace('b', 0).replace('B', 2).replace('a', 4).replace('A', 6)\n",
      "C:\\Users\\mwall\\AppData\\Local\\Temp\\ipykernel_13676\\2922615450.py:100: FutureWarning: The provided callable <function sum at 0x0000020429FDC280> is currently using SeriesGroupBy.sum. In a future version of pandas, the provided callable will be used directly. To keep current behavior pass the string \"sum\" instead.\n",
      "  signal_df['r_trial'] = (signal_df.groupby('TrialNumber')['photometrySideInIndexr'].transform(np.sum) > 0) * 1.0\n",
      "C:\\Users\\mwall\\AppData\\Local\\Temp\\ipykernel_13676\\2922615450.py:101: FutureWarning: The provided callable <function sum at 0x0000020429FDC280> is currently using SeriesGroupBy.sum. In a future version of pandas, the provided callable will be used directly. To keep current behavior pass the string \"sum\" instead.\n",
      "  signal_df['nr_trial'] = (signal_df.groupby('TrialNumber')['photometrySideInIndexnr'].transform(np.sum) > 0) * 1.0\n"
     ]
    },
    {
     "name": "stdout",
     "output_type": "stream",
     "text": [
      "E:\\Dropbox (BOSTON UNIVERSITY)\\2ABT\\processed_photometry\\9010\\GLM_data\\GLM_SIGNALS_sstflp25_03022021.csv\n",
      "# of iterations 0 — Final max amount of duplicated Center Out Indices: 1\n"
     ]
    },
    {
     "name": "stderr",
     "output_type": "stream",
     "text": [
      "C:\\Users\\mwall\\Documents\\GitHub\\sabatini-glm-workflow\\sglm\\gen_signal_df.py:105: FutureWarning: Downcasting behavior in `replace` is deprecated and will be removed in a future version. To retain the old behavior, explicitly call `result.infer_objects(copy=False)`. To opt-in to the future behavior, set `pd.set_option('future.no_silent_downcasting', True)`\n",
      "  check['val_a'] = df_t['label'].str.slice(0, 1).replace('a', 0).replace('A', 1) + df_t['label'].str.slice(1, 2).replace('b', 0).replace('B', 2).replace('a', 4).replace('A', 6)\n",
      "C:\\Users\\mwall\\AppData\\Local\\Temp\\ipykernel_13676\\2922615450.py:100: FutureWarning: The provided callable <function sum at 0x0000020429FDC280> is currently using SeriesGroupBy.sum. In a future version of pandas, the provided callable will be used directly. To keep current behavior pass the string \"sum\" instead.\n",
      "  signal_df['r_trial'] = (signal_df.groupby('TrialNumber')['photometrySideInIndexr'].transform(np.sum) > 0) * 1.0\n",
      "C:\\Users\\mwall\\AppData\\Local\\Temp\\ipykernel_13676\\2922615450.py:101: FutureWarning: The provided callable <function sum at 0x0000020429FDC280> is currently using SeriesGroupBy.sum. In a future version of pandas, the provided callable will be used directly. To keep current behavior pass the string \"sum\" instead.\n",
      "  signal_df['nr_trial'] = (signal_df.groupby('TrialNumber')['photometrySideInIndexnr'].transform(np.sum) > 0) * 1.0\n"
     ]
    },
    {
     "name": "stdout",
     "output_type": "stream",
     "text": [
      "E:\\Dropbox (BOSTON UNIVERSITY)\\2ABT\\processed_photometry\\9010\\GLM_data\\GLM_SIGNALS_sstflp25_03082021.csv\n",
      "# of iterations 0 — Final max amount of duplicated Center Out Indices: 1\n"
     ]
    },
    {
     "name": "stderr",
     "output_type": "stream",
     "text": [
      "C:\\Users\\mwall\\Documents\\GitHub\\sabatini-glm-workflow\\sglm\\gen_signal_df.py:105: FutureWarning: Downcasting behavior in `replace` is deprecated and will be removed in a future version. To retain the old behavior, explicitly call `result.infer_objects(copy=False)`. To opt-in to the future behavior, set `pd.set_option('future.no_silent_downcasting', True)`\n",
      "  check['val_a'] = df_t['label'].str.slice(0, 1).replace('a', 0).replace('A', 1) + df_t['label'].str.slice(1, 2).replace('b', 0).replace('B', 2).replace('a', 4).replace('A', 6)\n",
      "C:\\Users\\mwall\\AppData\\Local\\Temp\\ipykernel_13676\\2922615450.py:100: FutureWarning: The provided callable <function sum at 0x0000020429FDC280> is currently using SeriesGroupBy.sum. In a future version of pandas, the provided callable will be used directly. To keep current behavior pass the string \"sum\" instead.\n",
      "  signal_df['r_trial'] = (signal_df.groupby('TrialNumber')['photometrySideInIndexr'].transform(np.sum) > 0) * 1.0\n",
      "C:\\Users\\mwall\\AppData\\Local\\Temp\\ipykernel_13676\\2922615450.py:101: FutureWarning: The provided callable <function sum at 0x0000020429FDC280> is currently using SeriesGroupBy.sum. In a future version of pandas, the provided callable will be used directly. To keep current behavior pass the string \"sum\" instead.\n",
      "  signal_df['nr_trial'] = (signal_df.groupby('TrialNumber')['photometrySideInIndexnr'].transform(np.sum) > 0) * 1.0\n"
     ]
    },
    {
     "name": "stdout",
     "output_type": "stream",
     "text": [
      "E:\\Dropbox (BOSTON UNIVERSITY)\\2ABT\\processed_photometry\\9010\\GLM_data\\GLM_SIGNALS_sstflp25_03102021.csv\n",
      "# of iterations 0 — Final max amount of duplicated Center Out Indices: 1\n"
     ]
    },
    {
     "name": "stderr",
     "output_type": "stream",
     "text": [
      "C:\\Users\\mwall\\Documents\\GitHub\\sabatini-glm-workflow\\sglm\\gen_signal_df.py:105: FutureWarning: Downcasting behavior in `replace` is deprecated and will be removed in a future version. To retain the old behavior, explicitly call `result.infer_objects(copy=False)`. To opt-in to the future behavior, set `pd.set_option('future.no_silent_downcasting', True)`\n",
      "  check['val_a'] = df_t['label'].str.slice(0, 1).replace('a', 0).replace('A', 1) + df_t['label'].str.slice(1, 2).replace('b', 0).replace('B', 2).replace('a', 4).replace('A', 6)\n",
      "C:\\Users\\mwall\\AppData\\Local\\Temp\\ipykernel_13676\\2922615450.py:100: FutureWarning: The provided callable <function sum at 0x0000020429FDC280> is currently using SeriesGroupBy.sum. In a future version of pandas, the provided callable will be used directly. To keep current behavior pass the string \"sum\" instead.\n",
      "  signal_df['r_trial'] = (signal_df.groupby('TrialNumber')['photometrySideInIndexr'].transform(np.sum) > 0) * 1.0\n",
      "C:\\Users\\mwall\\AppData\\Local\\Temp\\ipykernel_13676\\2922615450.py:101: FutureWarning: The provided callable <function sum at 0x0000020429FDC280> is currently using SeriesGroupBy.sum. In a future version of pandas, the provided callable will be used directly. To keep current behavior pass the string \"sum\" instead.\n",
      "  signal_df['nr_trial'] = (signal_df.groupby('TrialNumber')['photometrySideInIndexnr'].transform(np.sum) > 0) * 1.0\n"
     ]
    },
    {
     "name": "stdout",
     "output_type": "stream",
     "text": [
      "E:\\Dropbox (BOSTON UNIVERSITY)\\2ABT\\processed_photometry\\9010\\GLM_data\\GLM_SIGNALS_sstflp25_12022020.csv\n",
      "# of iterations 0 — Final max amount of duplicated Center Out Indices: 1\n"
     ]
    },
    {
     "name": "stderr",
     "output_type": "stream",
     "text": [
      "C:\\Users\\mwall\\Documents\\GitHub\\sabatini-glm-workflow\\sglm\\gen_signal_df.py:105: FutureWarning: Downcasting behavior in `replace` is deprecated and will be removed in a future version. To retain the old behavior, explicitly call `result.infer_objects(copy=False)`. To opt-in to the future behavior, set `pd.set_option('future.no_silent_downcasting', True)`\n",
      "  check['val_a'] = df_t['label'].str.slice(0, 1).replace('a', 0).replace('A', 1) + df_t['label'].str.slice(1, 2).replace('b', 0).replace('B', 2).replace('a', 4).replace('A', 6)\n",
      "C:\\Users\\mwall\\AppData\\Local\\Temp\\ipykernel_13676\\2922615450.py:100: FutureWarning: The provided callable <function sum at 0x0000020429FDC280> is currently using SeriesGroupBy.sum. In a future version of pandas, the provided callable will be used directly. To keep current behavior pass the string \"sum\" instead.\n",
      "  signal_df['r_trial'] = (signal_df.groupby('TrialNumber')['photometrySideInIndexr'].transform(np.sum) > 0) * 1.0\n",
      "C:\\Users\\mwall\\AppData\\Local\\Temp\\ipykernel_13676\\2922615450.py:101: FutureWarning: The provided callable <function sum at 0x0000020429FDC280> is currently using SeriesGroupBy.sum. In a future version of pandas, the provided callable will be used directly. To keep current behavior pass the string \"sum\" instead.\n",
      "  signal_df['nr_trial'] = (signal_df.groupby('TrialNumber')['photometrySideInIndexnr'].transform(np.sum) > 0) * 1.0\n"
     ]
    },
    {
     "name": "stdout",
     "output_type": "stream",
     "text": [
      "E:\\Dropbox (BOSTON UNIVERSITY)\\2ABT\\processed_photometry\\9010\\GLM_data\\GLM_SIGNALS_sstflp25_12072020.csv\n",
      "# of iterations 0 — Final max amount of duplicated Center Out Indices: 1\n"
     ]
    },
    {
     "name": "stderr",
     "output_type": "stream",
     "text": [
      "C:\\Users\\mwall\\Documents\\GitHub\\sabatini-glm-workflow\\sglm\\gen_signal_df.py:105: FutureWarning: Downcasting behavior in `replace` is deprecated and will be removed in a future version. To retain the old behavior, explicitly call `result.infer_objects(copy=False)`. To opt-in to the future behavior, set `pd.set_option('future.no_silent_downcasting', True)`\n",
      "  check['val_a'] = df_t['label'].str.slice(0, 1).replace('a', 0).replace('A', 1) + df_t['label'].str.slice(1, 2).replace('b', 0).replace('B', 2).replace('a', 4).replace('A', 6)\n",
      "C:\\Users\\mwall\\AppData\\Local\\Temp\\ipykernel_13676\\2922615450.py:100: FutureWarning: The provided callable <function sum at 0x0000020429FDC280> is currently using SeriesGroupBy.sum. In a future version of pandas, the provided callable will be used directly. To keep current behavior pass the string \"sum\" instead.\n",
      "  signal_df['r_trial'] = (signal_df.groupby('TrialNumber')['photometrySideInIndexr'].transform(np.sum) > 0) * 1.0\n",
      "C:\\Users\\mwall\\AppData\\Local\\Temp\\ipykernel_13676\\2922615450.py:101: FutureWarning: The provided callable <function sum at 0x0000020429FDC280> is currently using SeriesGroupBy.sum. In a future version of pandas, the provided callable will be used directly. To keep current behavior pass the string \"sum\" instead.\n",
      "  signal_df['nr_trial'] = (signal_df.groupby('TrialNumber')['photometrySideInIndexnr'].transform(np.sum) > 0) * 1.0\n"
     ]
    },
    {
     "name": "stdout",
     "output_type": "stream",
     "text": [
      "E:\\Dropbox (BOSTON UNIVERSITY)\\2ABT\\processed_photometry\\9010\\GLM_data\\GLM_SIGNALS_sstflp25_12112020.csv\n",
      "# of iterations 0 — Final max amount of duplicated Center Out Indices: 1\n"
     ]
    },
    {
     "name": "stderr",
     "output_type": "stream",
     "text": [
      "C:\\Users\\mwall\\Documents\\GitHub\\sabatini-glm-workflow\\sglm\\gen_signal_df.py:105: FutureWarning: Downcasting behavior in `replace` is deprecated and will be removed in a future version. To retain the old behavior, explicitly call `result.infer_objects(copy=False)`. To opt-in to the future behavior, set `pd.set_option('future.no_silent_downcasting', True)`\n",
      "  check['val_a'] = df_t['label'].str.slice(0, 1).replace('a', 0).replace('A', 1) + df_t['label'].str.slice(1, 2).replace('b', 0).replace('B', 2).replace('a', 4).replace('A', 6)\n",
      "C:\\Users\\mwall\\AppData\\Local\\Temp\\ipykernel_13676\\2922615450.py:100: FutureWarning: The provided callable <function sum at 0x0000020429FDC280> is currently using SeriesGroupBy.sum. In a future version of pandas, the provided callable will be used directly. To keep current behavior pass the string \"sum\" instead.\n",
      "  signal_df['r_trial'] = (signal_df.groupby('TrialNumber')['photometrySideInIndexr'].transform(np.sum) > 0) * 1.0\n",
      "C:\\Users\\mwall\\AppData\\Local\\Temp\\ipykernel_13676\\2922615450.py:101: FutureWarning: The provided callable <function sum at 0x0000020429FDC280> is currently using SeriesGroupBy.sum. In a future version of pandas, the provided callable will be used directly. To keep current behavior pass the string \"sum\" instead.\n",
      "  signal_df['nr_trial'] = (signal_df.groupby('TrialNumber')['photometrySideInIndexnr'].transform(np.sum) > 0) * 1.0\n"
     ]
    },
    {
     "name": "stdout",
     "output_type": "stream",
     "text": [
      "E:\\Dropbox (BOSTON UNIVERSITY)\\2ABT\\processed_photometry\\9010\\GLM_data\\GLM_SIGNALS_sstflp26_01152021.csv\n",
      "# of iterations 0 — Final max amount of duplicated Center Out Indices: 1\n"
     ]
    },
    {
     "name": "stderr",
     "output_type": "stream",
     "text": [
      "C:\\Users\\mwall\\Documents\\GitHub\\sabatini-glm-workflow\\sglm\\gen_signal_df.py:105: FutureWarning: Downcasting behavior in `replace` is deprecated and will be removed in a future version. To retain the old behavior, explicitly call `result.infer_objects(copy=False)`. To opt-in to the future behavior, set `pd.set_option('future.no_silent_downcasting', True)`\n",
      "  check['val_a'] = df_t['label'].str.slice(0, 1).replace('a', 0).replace('A', 1) + df_t['label'].str.slice(1, 2).replace('b', 0).replace('B', 2).replace('a', 4).replace('A', 6)\n",
      "C:\\Users\\mwall\\AppData\\Local\\Temp\\ipykernel_13676\\2922615450.py:100: FutureWarning: The provided callable <function sum at 0x0000020429FDC280> is currently using SeriesGroupBy.sum. In a future version of pandas, the provided callable will be used directly. To keep current behavior pass the string \"sum\" instead.\n",
      "  signal_df['r_trial'] = (signal_df.groupby('TrialNumber')['photometrySideInIndexr'].transform(np.sum) > 0) * 1.0\n",
      "C:\\Users\\mwall\\AppData\\Local\\Temp\\ipykernel_13676\\2922615450.py:101: FutureWarning: The provided callable <function sum at 0x0000020429FDC280> is currently using SeriesGroupBy.sum. In a future version of pandas, the provided callable will be used directly. To keep current behavior pass the string \"sum\" instead.\n",
      "  signal_df['nr_trial'] = (signal_df.groupby('TrialNumber')['photometrySideInIndexnr'].transform(np.sum) > 0) * 1.0\n"
     ]
    },
    {
     "name": "stdout",
     "output_type": "stream",
     "text": [
      "294\n",
      "293\n"
     ]
    },
    {
     "data": {
      "text/plain": [
       "29      1233\n",
       "30      1299\n",
       "31      1358\n",
       "32      1421\n",
       "33      1489\n",
       "       ...  \n",
       "318    32719\n",
       "319    32882\n",
       "320    33023\n",
       "321    33102\n",
       "322    33220\n",
       "Name: photometryCenterInIndex, Length: 294, dtype: int64"
      ]
     },
     "metadata": {},
     "output_type": "display_data"
    },
    {
     "name": "stdout",
     "output_type": "stream",
     "text": [
      "Error: Multiple photometryCenterInIndex with the same timestamp detected for E:\\Dropbox (BOSTON UNIVERSITY)\\2ABT\\processed_photometry\\9010\\GLM_data\\GLM_SIGNALS_sstflp26_01252021.csv. Continuing...\n",
      "E:\\Dropbox (BOSTON UNIVERSITY)\\2ABT\\processed_photometry\\9010\\GLM_data\\GLM_SIGNALS_sstflp26_01292021.csv\n",
      "# of iterations 0 — Final max amount of duplicated Center Out Indices: 1\n"
     ]
    },
    {
     "name": "stderr",
     "output_type": "stream",
     "text": [
      "C:\\Users\\mwall\\Documents\\GitHub\\sabatini-glm-workflow\\sglm\\gen_signal_df.py:105: FutureWarning: Downcasting behavior in `replace` is deprecated and will be removed in a future version. To retain the old behavior, explicitly call `result.infer_objects(copy=False)`. To opt-in to the future behavior, set `pd.set_option('future.no_silent_downcasting', True)`\n",
      "  check['val_a'] = df_t['label'].str.slice(0, 1).replace('a', 0).replace('A', 1) + df_t['label'].str.slice(1, 2).replace('b', 0).replace('B', 2).replace('a', 4).replace('A', 6)\n",
      "C:\\Users\\mwall\\AppData\\Local\\Temp\\ipykernel_13676\\2922615450.py:100: FutureWarning: The provided callable <function sum at 0x0000020429FDC280> is currently using SeriesGroupBy.sum. In a future version of pandas, the provided callable will be used directly. To keep current behavior pass the string \"sum\" instead.\n",
      "  signal_df['r_trial'] = (signal_df.groupby('TrialNumber')['photometrySideInIndexr'].transform(np.sum) > 0) * 1.0\n",
      "C:\\Users\\mwall\\AppData\\Local\\Temp\\ipykernel_13676\\2922615450.py:101: FutureWarning: The provided callable <function sum at 0x0000020429FDC280> is currently using SeriesGroupBy.sum. In a future version of pandas, the provided callable will be used directly. To keep current behavior pass the string \"sum\" instead.\n",
      "  signal_df['nr_trial'] = (signal_df.groupby('TrialNumber')['photometrySideInIndexnr'].transform(np.sum) > 0) * 1.0\n"
     ]
    },
    {
     "name": "stdout",
     "output_type": "stream",
     "text": [
      "E:\\Dropbox (BOSTON UNIVERSITY)\\2ABT\\processed_photometry\\9010\\GLM_data\\GLM_SIGNALS_sstflp26_02042021.csv\n",
      "# of iterations 0 — Final max amount of duplicated Center Out Indices: 1\n"
     ]
    },
    {
     "name": "stderr",
     "output_type": "stream",
     "text": [
      "C:\\Users\\mwall\\Documents\\GitHub\\sabatini-glm-workflow\\sglm\\gen_signal_df.py:105: FutureWarning: Downcasting behavior in `replace` is deprecated and will be removed in a future version. To retain the old behavior, explicitly call `result.infer_objects(copy=False)`. To opt-in to the future behavior, set `pd.set_option('future.no_silent_downcasting', True)`\n",
      "  check['val_a'] = df_t['label'].str.slice(0, 1).replace('a', 0).replace('A', 1) + df_t['label'].str.slice(1, 2).replace('b', 0).replace('B', 2).replace('a', 4).replace('A', 6)\n",
      "C:\\Users\\mwall\\AppData\\Local\\Temp\\ipykernel_13676\\2922615450.py:100: FutureWarning: The provided callable <function sum at 0x0000020429FDC280> is currently using SeriesGroupBy.sum. In a future version of pandas, the provided callable will be used directly. To keep current behavior pass the string \"sum\" instead.\n",
      "  signal_df['r_trial'] = (signal_df.groupby('TrialNumber')['photometrySideInIndexr'].transform(np.sum) > 0) * 1.0\n",
      "C:\\Users\\mwall\\AppData\\Local\\Temp\\ipykernel_13676\\2922615450.py:101: FutureWarning: The provided callable <function sum at 0x0000020429FDC280> is currently using SeriesGroupBy.sum. In a future version of pandas, the provided callable will be used directly. To keep current behavior pass the string \"sum\" instead.\n",
      "  signal_df['nr_trial'] = (signal_df.groupby('TrialNumber')['photometrySideInIndexnr'].transform(np.sum) > 0) * 1.0\n"
     ]
    },
    {
     "name": "stdout",
     "output_type": "stream",
     "text": [
      "E:\\Dropbox (BOSTON UNIVERSITY)\\2ABT\\processed_photometry\\9010\\GLM_data\\GLM_SIGNALS_sstflp26_02122021.csv\n",
      "# of iterations 0 — Final max amount of duplicated Center Out Indices: 1\n"
     ]
    },
    {
     "name": "stderr",
     "output_type": "stream",
     "text": [
      "C:\\Users\\mwall\\Documents\\GitHub\\sabatini-glm-workflow\\sglm\\gen_signal_df.py:105: FutureWarning: Downcasting behavior in `replace` is deprecated and will be removed in a future version. To retain the old behavior, explicitly call `result.infer_objects(copy=False)`. To opt-in to the future behavior, set `pd.set_option('future.no_silent_downcasting', True)`\n",
      "  check['val_a'] = df_t['label'].str.slice(0, 1).replace('a', 0).replace('A', 1) + df_t['label'].str.slice(1, 2).replace('b', 0).replace('B', 2).replace('a', 4).replace('A', 6)\n",
      "C:\\Users\\mwall\\AppData\\Local\\Temp\\ipykernel_13676\\2922615450.py:100: FutureWarning: The provided callable <function sum at 0x0000020429FDC280> is currently using SeriesGroupBy.sum. In a future version of pandas, the provided callable will be used directly. To keep current behavior pass the string \"sum\" instead.\n",
      "  signal_df['r_trial'] = (signal_df.groupby('TrialNumber')['photometrySideInIndexr'].transform(np.sum) > 0) * 1.0\n",
      "C:\\Users\\mwall\\AppData\\Local\\Temp\\ipykernel_13676\\2922615450.py:101: FutureWarning: The provided callable <function sum at 0x0000020429FDC280> is currently using SeriesGroupBy.sum. In a future version of pandas, the provided callable will be used directly. To keep current behavior pass the string \"sum\" instead.\n",
      "  signal_df['nr_trial'] = (signal_df.groupby('TrialNumber')['photometrySideInIndexnr'].transform(np.sum) > 0) * 1.0\n"
     ]
    },
    {
     "name": "stdout",
     "output_type": "stream",
     "text": [
      "E:\\Dropbox (BOSTON UNIVERSITY)\\2ABT\\processed_photometry\\9010\\GLM_data\\GLM_SIGNALS_sstflp26_02182021.csv\n",
      "# of iterations 0 — Final max amount of duplicated Center Out Indices: 1\n"
     ]
    },
    {
     "name": "stderr",
     "output_type": "stream",
     "text": [
      "C:\\Users\\mwall\\Documents\\GitHub\\sabatini-glm-workflow\\sglm\\gen_signal_df.py:105: FutureWarning: Downcasting behavior in `replace` is deprecated and will be removed in a future version. To retain the old behavior, explicitly call `result.infer_objects(copy=False)`. To opt-in to the future behavior, set `pd.set_option('future.no_silent_downcasting', True)`\n",
      "  check['val_a'] = df_t['label'].str.slice(0, 1).replace('a', 0).replace('A', 1) + df_t['label'].str.slice(1, 2).replace('b', 0).replace('B', 2).replace('a', 4).replace('A', 6)\n",
      "C:\\Users\\mwall\\AppData\\Local\\Temp\\ipykernel_13676\\2922615450.py:100: FutureWarning: The provided callable <function sum at 0x0000020429FDC280> is currently using SeriesGroupBy.sum. In a future version of pandas, the provided callable will be used directly. To keep current behavior pass the string \"sum\" instead.\n",
      "  signal_df['r_trial'] = (signal_df.groupby('TrialNumber')['photometrySideInIndexr'].transform(np.sum) > 0) * 1.0\n",
      "C:\\Users\\mwall\\AppData\\Local\\Temp\\ipykernel_13676\\2922615450.py:101: FutureWarning: The provided callable <function sum at 0x0000020429FDC280> is currently using SeriesGroupBy.sum. In a future version of pandas, the provided callable will be used directly. To keep current behavior pass the string \"sum\" instead.\n",
      "  signal_df['nr_trial'] = (signal_df.groupby('TrialNumber')['photometrySideInIndexnr'].transform(np.sum) > 0) * 1.0\n"
     ]
    },
    {
     "name": "stdout",
     "output_type": "stream",
     "text": [
      "E:\\Dropbox (BOSTON UNIVERSITY)\\2ABT\\processed_photometry\\9010\\GLM_data\\GLM_SIGNALS_sstflp26_02232021.csv\n",
      "# of iterations 0 — Final max amount of duplicated Center Out Indices: 1\n"
     ]
    },
    {
     "name": "stderr",
     "output_type": "stream",
     "text": [
      "C:\\Users\\mwall\\Documents\\GitHub\\sabatini-glm-workflow\\sglm\\gen_signal_df.py:105: FutureWarning: Downcasting behavior in `replace` is deprecated and will be removed in a future version. To retain the old behavior, explicitly call `result.infer_objects(copy=False)`. To opt-in to the future behavior, set `pd.set_option('future.no_silent_downcasting', True)`\n",
      "  check['val_a'] = df_t['label'].str.slice(0, 1).replace('a', 0).replace('A', 1) + df_t['label'].str.slice(1, 2).replace('b', 0).replace('B', 2).replace('a', 4).replace('A', 6)\n",
      "C:\\Users\\mwall\\AppData\\Local\\Temp\\ipykernel_13676\\2922615450.py:100: FutureWarning: The provided callable <function sum at 0x0000020429FDC280> is currently using SeriesGroupBy.sum. In a future version of pandas, the provided callable will be used directly. To keep current behavior pass the string \"sum\" instead.\n",
      "  signal_df['r_trial'] = (signal_df.groupby('TrialNumber')['photometrySideInIndexr'].transform(np.sum) > 0) * 1.0\n",
      "C:\\Users\\mwall\\AppData\\Local\\Temp\\ipykernel_13676\\2922615450.py:101: FutureWarning: The provided callable <function sum at 0x0000020429FDC280> is currently using SeriesGroupBy.sum. In a future version of pandas, the provided callable will be used directly. To keep current behavior pass the string \"sum\" instead.\n",
      "  signal_df['nr_trial'] = (signal_df.groupby('TrialNumber')['photometrySideInIndexnr'].transform(np.sum) > 0) * 1.0\n"
     ]
    },
    {
     "data": {
      "application/vnd.jupyter.widget-view+json": {
       "model_id": "53c6421e50f14c24b045605544566824",
       "version_major": 2,
       "version_minor": 0
      },
      "text/plain": [
       "  0%|          | 0/1 [00:00<?, ?it/s]"
      ]
     },
     "metadata": {},
     "output_type": "display_data"
    }
   ],
   "source": [
    "from tqdm.notebook import tqdm\n",
    "import scipy.stats as stats\n",
    "from collections import defaultdict\n",
    "from sglm import gen_signal_df as gsd\n",
    "from sglm import build_features as bf\n",
    "\n",
    "basis = pd.read_csv(str((default_source_folder / basis_name).resolve()))\n",
    "basis.to_csv(str((default_output_folder / basis_name).resolve()))\n",
    "basis = basis.sort_values('signal_file').reset_index(drop=True)\n",
    "source_folder = default_source_folder\n",
    "\n",
    "interim_preproc_errors = defaultdict(list)\n",
    "\n",
    "for inx, conversion in tqdm(basis.iterrows(), total=len(basis)):\n",
    "#     print(conversion)\n",
    "#     if 'source_folder' in conversion.index:\n",
    "#         source_folder = Path(conversion['source_folder'])\n",
    "#     else:\n",
    "#         source_folder = default_source_folder\n",
    "    \n",
    "    figname = Path(conversion['figname'])\n",
    "    mouse_ID = Path(conversion['mouseid'])\n",
    "    groupid = Path(conversion['groupid'])\n",
    "    signal_file = Path(conversion['signal_file'])\n",
    "    table_file = Path(conversion['table_file'])\n",
    "    rename_dict = eval(conversion['rename_dict'])\n",
    "    signal_file_out = Path(conversion['signal_file_out'])\n",
    "    table_file_out = Path(conversion['table_file_out'])\n",
    "    \n",
    "    \n",
    "    signal_path = str((source_folder / signal_file).resolve())\n",
    "    table_path = str((source_folder / table_file).resolve())\n",
    "    \n",
    "    out_folder = default_output_folder / figname / groupid\n",
    "    out_folder.mkdir(parents=True, exist_ok=True)\n",
    "    \n",
    "    signal_path_out = default_output_folder / figname / groupid / signal_file_out\n",
    "    table_path_out = default_output_folder / figname / groupid / table_file_out\n",
    "    \n",
    "    if signal_path_out.exists():\n",
    "        raise OSError(f'Signal Path {signal_path_out} already exists!')\n",
    "    if table_path_out.exists():\n",
    "        raise OSError(f'Table Path {table_path_out} already exists!')\n",
    "    \n",
    "    signal_df = pd.read_csv(signal_path)\n",
    "    table_df = pd.read_csv(table_path)\n",
    "    \n",
    "    brk = False\n",
    "    # Check for multiple copies of the same sideIn\n",
    "    for multiple_copy_check in ['photometryCenterInIndex', 'photometryCenterOutIndex',\n",
    "                                'photometrySideInIndex', 'photometrySideOutIndex',]:\n",
    "        eq = table_df[multiple_copy_check].dropna()\n",
    "        eq = eq[eq != 0]\n",
    "        if len(eq) != eq.nunique():\n",
    "            interim_preproc_errors[(figname, groupid)].append({'in_file_errors': signal_file, 'out_file_errors': signal_file_out})\n",
    "\n",
    "            print(len(eq))\n",
    "            print(eq.nunique())\n",
    "            display(eq)\n",
    "            print(f'Error: Multiple {multiple_copy_check} with the same timestamp detected for {signal_path}. Continuing...')\n",
    "            brk = True\n",
    "            break\n",
    "        elif (figname, groupid) not in interim_preproc_errors:\n",
    "            interim_preproc_errors[(figname, groupid)] = []\n",
    "    \n",
    "    if brk:\n",
    "        continue\n",
    "    elif \"GLM_SIGNALS_s stflp26_01252021\" in str(signal_file.resolve()):\n",
    "        print(f'Excluding {signal_file} and continuing...')\n",
    "        interim_preproc_errors[(figname, groupid)].append({'in_file_errors': signal_file, 'out_file_errors': signal_file_out})\n",
    "        continue\n",
    "    \n",
    "    \n",
    "    print(signal_path)\n",
    "    signal_df, table_df = gsd.generate_signal_df(signal_path,\n",
    "                                            table_path,\n",
    "                                            trial_bounds_before_center_in = num_sft[0],\n",
    "                                            trial_bounds_after_side_out = num_sft[1],\n",
    "                                            )\n",
    "    \n",
    "    assert np.all(table_df['choseLeft'] != table_df['choseRight'])\n",
    "    \n",
    "    signal_df = signal_df[signal_df['nTrial'] > 0].fillna(0)\n",
    "\n",
    "    #adding SessionName \n",
    "    sn_string = basis['signal_file'][0].split('_')\n",
    "    signal_df['SessionName'] = sn_string[2] + sn_string[3][0:-4]\n",
    "    \n",
    "    \n",
    "    # Rename Columns\n",
    "    signal_df = bf.rename_consistent_columns(signal_df)\n",
    "    signal_df = signal_df.rename(rename_dict, axis=1)\n",
    "\n",
    "    for y_col in y_col_lst_all:\n",
    "        if y_col not in signal_df.columns:\n",
    "            signal_df[y_col] = np.nan\n",
    "            continue\n",
    "    \n",
    "    ## Set Full Trial Reward Flags\n",
    "    signal_df['r_trial'] = (signal_df.groupby('TrialNumber')['photometrySideInIndexr'].transform(np.sum) > 0) * 1.0\n",
    "    signal_df['nr_trial'] = (signal_df.groupby('TrialNumber')['photometrySideInIndexnr'].transform(np.sum) > 0) * 1.0\n",
    "    \n",
    "    signal_df['nr_trial'] = (signal_df['nr_trial'] - signal_df['r_trial'] > 0) * 1.0\n",
    "    \n",
    "#     signal_df['rnr_err_trial'] = (signal_df['r_trial'] + signal_df['nr_trial'] != 1.0) * 1.0\n",
    "\n",
    "    ## Define Side Rewarded / Unrewarded Flags\n",
    "    signal_df = bf.set_port_entry_exit_rewarded_unrewarded_indicators(signal_df)\n",
    "    \n",
    "#     display(list(signal_df.columns))\n",
    "    \n",
    "    ## Define Side Agnostic Events\n",
    "    signal_df = bf.define_side_agnostic_events(signal_df, agnostic_definitions={'spn':['rpn','lpn'],\n",
    "                                                          'spx':['rpx','lpx'],\n",
    "                                                          'spnr':['rpnr','lpnr'],\n",
    "                                                          'spnnr':['rpnnr','lpnnr'],\n",
    "                                                          'spxr':['rpxr','lpxr'],\n",
    "                                                          'spxnr':['rpxnr','lpxnr'],\n",
    "#                                                           'sl':['rl','ll'],\n",
    "                                                         })\n",
    "    \n",
    "    #print('Percent of Data in ITI:', (signal_df['nTrial'] == signal_df['nEndTrial']).mean())\n",
    "\n",
    "    signal_df['spnrOff'] = ((signal_df['spnr'] == 1)&(signal_df['photometrySideInIndex'] != 1)).astype(int)\n",
    "    signal_df['spxrOff'] = ((signal_df['spxr'] == 1)&(signal_df['photometrySideOutIndex'] != 1)).astype(int)\n",
    "    spnnrOff_a = ((signal_df['spnnr'] == 1)&(signal_df['photometrySideInIndex'] != 1)).astype(int)\n",
    "    spxnrOff_a = ((signal_df['spxnr'] == 1)&(signal_df['photometrySideOutIndex'] != 1)).astype(int)\n",
    "\n",
    "    # If we have something listed as a rewarded \"off\" side entry labeled in the table as a side exit... it means it was a fast \"out-in\".\n",
    "    # The latter \"in\" should be considered an unrewarded side port \"off\" entry.\n",
    "    dualism_exen = ((signal_df['spnrOff'] == 1)&(signal_df['photometrySideOutIndex'] == 1)).astype(int)\n",
    "\n",
    "    # Unrewarded side port entries should be the combination of those simply identified by checking spnnr & the table labels +\n",
    "    # the dualism defined immediately prior. Then those dualism examples should be remoed from the \"off\" rewarded entries.\n",
    "    signal_df['spnnrOff'] = spnnrOff_a + dualism_exen\n",
    "    signal_df['spnrOff'] = signal_df['spnrOff'] - dualism_exen\n",
    "    signal_df['spxnrOff'] = spxnrOff_a\n",
    "    \n",
    "#     signal_df['slOff'] = signal_df['sl'] * signal_df['nr_trial']\n",
    "#     signal_df['slOn'] = signal_df['sl'] - signal_df['slOff']\n",
    "    \n",
    "    signal_df['cpnOff'] = ((signal_df['cpn'] == 1)&(signal_df['photometryCenterInIndex'] != 1)).astype(int)\n",
    "    signal_df['cpxOff'] = ((signal_df['cpx'] == 1)&(signal_df['photometryCenterOutIndex'] != 1)).astype(int)\n",
    "    \n",
    "    \n",
    "    #for resp in ['GCAMP']:\n",
    "#     for resp in y_col_lst_all:\n",
    "    #    print(f'{resp} Stats:')\n",
    "    #    a = np.round(signal_df.assign(wi_trial_keep=signal_df['wi_trial_keep'].astype(str)).groupby('wi_trial_keep')[resp].agg([np.mean, np.var, stats.skew, lambda a: stats.kurtosis(a,fisher=False)]),3)\n",
    "    #    a = pd.concat([a,np.round(signal_df.assign(one='All').groupby('one')[resp].agg([np.mean, np.var, stats.skew, lambda a: stats.kurtosis(a,fisher=False)]),3)],axis=0)\n",
    "    #    display(a)\n",
    "    \n",
    "    if signal_path_out:\n",
    "        signal_df.to_csv(signal_path_out, index_label='Timestamp')\n",
    "    if table_path_out:\n",
    "        table_df.to_csv(table_path_out, index_label='Timestamp')\n",
    "    \n",
    "    assert np.max(signal_df['photometrySideInIndexr'] + signal_df['photometrySideInIndexnr']) == 1.0\n",
    "\n",
    "#signal_df['Timestamp'] = signal_df['index']\n",
    "    \n",
    "#     display(signal_df[['GCAMP']].agg([np.mean, np.std, scipy.stats.skew, scipy.stats.kurtosis]))\n",
    "\n",
    "for figname, groupid in tqdm(interim_preproc_errors, total=len(interim_preproc_errors)):\n",
    "    interim_preproc_errors_path = default_output_folder / figname / groupid / 'interim_preproc_errors.csv'\n",
    "\n",
    "    if len(interim_preproc_errors[(figname, groupid)]) != 0:\n",
    "        interim_preproc_errors_df = pd.DataFrame(interim_preproc_errors[(figname, groupid)])\n",
    "    else:\n",
    "        interim_preproc_errors_df = pd.DataFrame(columns=['in_file_errors', 'out_file_errors'])\n",
    "\n",
    "    interim_preproc_errors_df.to_csv(str(interim_preproc_errors_path.resolve()))"
   ]
  },
  {
   "cell_type": "code",
   "execution_count": 9,
   "metadata": {},
   "outputs": [
    {
     "name": "stdout",
     "output_type": "stream",
     "text": [
      "Automatic pdb calling has been turned OFF\n"
     ]
    }
   ],
   "source": [
    "%pdb off"
   ]
  }
 ],
 "metadata": {
  "kernelspec": {
   "display_name": "Python 3 (ipykernel)",
   "language": "python",
   "name": "python3"
  },
  "language_info": {
   "codemirror_mode": {
    "name": "ipython",
    "version": 3
   },
   "file_extension": ".py",
   "mimetype": "text/x-python",
   "name": "python",
   "nbconvert_exporter": "python",
   "pygments_lexer": "ipython3",
   "version": "3.9.18"
  }
 },
 "nbformat": 4,
 "nbformat_minor": 4
}
